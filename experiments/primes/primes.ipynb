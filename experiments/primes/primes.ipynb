{
 "cells": [
  {
   "cell_type": "code",
   "execution_count": 1,
   "id": "b9bdd40e-d6bc-4e32-9df5-f2fe175633eb",
   "metadata": {
    "jupyter": {
     "source_hidden": true
    },
    "tags": []
   },
   "outputs": [],
   "source": [
    "from tempfile import mkdtemp\n",
    "from shutil import rmtree\n",
    "from os import chdir"
   ]
  },
  {
   "cell_type": "code",
   "execution_count": 2,
   "id": "1803b644-4846-4b73-a3f3-2d663c035d84",
   "metadata": {
    "tags": []
   },
   "outputs": [],
   "source": [
    "from measure import *"
   ]
  },
  {
   "cell_type": "code",
   "execution_count": 3,
   "id": "c1c99a79-6567-4431-99d8-f38e9077cc47",
   "metadata": {
    "tags": []
   },
   "outputs": [],
   "source": [
    "SHAMONPATH=\"/home/marek/monitoring/shamon\"\n",
    "DRIOPATH=\"/home/marek/monitoring/dynamorio/\"\n",
    "set_repeat_num(10)\n",
    "NUM=\"5000\""
   ]
  },
  {
   "cell_type": "code",
   "execution_count": 4,
   "id": "ff18681c-84ad-48cf-8e98-e721ab25f7a7",
   "metadata": {
    "tags": []
   },
   "outputs": [],
   "source": [
    "WORKINGDIR = mkdtemp(prefix=\"midmon.\", dir=\"/tmp\")\n",
    "DRRUN=f\"{DRIOPATH}/build/bin64/drrun\"\n",
    "DRIO=[DRRUN, \"-root\",  f\"{DRIOPATH}/build/\",\n",
    "             \"-opt_cleancall\", \"2\", \"-opt_speed\"]\n",
    "PRIMESPATH=f\"{SHAMONPATH}/experiments/primes\"\n",
    "PRIMESSRC=f\"{SHAMONPATH}/mmtest/mmprimes.c\"\n",
    "COMPILESH=f\"{SHAMONPATH}/gen/compile.sh\""
   ]
  },
  {
   "cell_type": "code",
   "execution_count": 5,
   "id": "44fcb97e-49df-4cb1-99c9-fb7592c36690",
   "metadata": {
    "tags": []
   },
   "outputs": [],
   "source": [
    "open_log()"
   ]
  },
  {
   "cell_type": "code",
   "execution_count": 6,
   "id": "2042ced6-8744-4b60-a5c9-d1da49d6a3be",
   "metadata": {
    "tags": []
   },
   "outputs": [
    {
     "name": "stdout",
     "output_type": "stream",
     "text": [
      "-- Working directory is /tmp/midmon.1nbj4clc --\n"
     ]
    }
   ],
   "source": [
    "chdir(WORKINGDIR)\n",
    "lprint(f\"-- Working directory is {WORKINGDIR} --\")"
   ]
  },
  {
   "cell_type": "code",
   "execution_count": 7,
   "id": "ef7e6b0f-1d19-40e4-99b2-8abd52f28953",
   "metadata": {
    "tags": []
   },
   "outputs": [
    {
     "name": "stdout",
     "output_type": "stream",
     "text": [
      "-- Compiling monitor --\n",
      "-- Monitor compiled --\n"
     ]
    }
   ],
   "source": [
    "lprint(\"-- Compiling monitor --\")\n",
    "compile_monitor(COMPILESH, PRIMESSRC)"
   ]
  },
  {
   "cell_type": "code",
   "execution_count": 8,
   "id": "d7015546-823c-4020-a987-270ca4fa14f7",
   "metadata": {
    "jupyter": {
     "source_hidden": true
    }
   },
   "outputs": [],
   "source": [
    "class ParseTime:\n",
    "    def __init__(self):\n",
    "        self.times = []\n",
    "        self.time = 0\n",
    "\n",
    "    def parse(self, out, err):\n",
    "        for line in err.splitlines():\n",
    "            if line.startswith(b'time:'):\n",
    "                parts = line.split()\n",
    "                assert len(parts) == 3, parts\n",
    "                f = float(parts[1])\n",
    "                assert f > 0\n",
    "                self.times.append(f)\n",
    "                self.time += f\n",
    "                return\n",
    "\n",
    "        log(\"-- ERROR while parsing stderr for time info:\",\n",
    "            \"-- ERROR while parsing time (see log.txt)--\")\n",
    "        log(err)\n",
    "        raise RuntimeError(\"Did not find time value\")\n",
    "            \n",
    "    def report(self, msg=None):\n",
    "        assert self.time > 0, f\"Invalid time: {self.time}\"\n",
    "        if msg:\n",
    "            lprint(msg, end=' ', color=\"\\033[0;32m\")\n",
    "        val = self.time / repeat_num()\n",
    "        lprint(f\"Avg CPU time ({repeat_num()} measurements): {val} seconds.\", color=\"\\033[0;32m\")\n",
    "        return val"
   ]
  },
  {
   "cell_type": "code",
   "execution_count": 9,
   "id": "d9e9c4cd-1fbd-4800-9fb4-53534d043424",
   "metadata": {
    "jupyter": {
     "source_hidden": true
    }
   },
   "outputs": [],
   "source": [
    "class ParseStats:\n",
    "    def __init__(self):\n",
    "        self.stats = []\n",
    "        self.dl, self.dr = None, None\n",
    "        self.sl, self.sr = None, None\n",
    "        self.il, self.ir = None, None\n",
    "        self.pl, self.pr = None, None\n",
    "        self.errs = None\n",
    "\n",
    "    def parse(self, out, err):\n",
    "        errs = 0\n",
    "        for line in out.splitlines():\n",
    "            if line.startswith(b'ERROR'):\n",
    "                errs += 1\n",
    "            if line.startswith(b'Done!'):\n",
    "                parts = line.split()\n",
    "                assert len(parts) == 25, parts\n",
    "                dl, dr = int(parts[2]), int(parts[5])\n",
    "                sl, sr = int(parts[8]), int(parts[11])\n",
    "                il, ir = int(parts[14]), int(parts[17])\n",
    "                pl, pr = int(parts[20]), int(parts[23])\n",
    "                if dl + sl + il + pl == 0 or dl + sl + il + pl != dr + sr + ir + pr:\n",
    "                    log(out)\n",
    "                    lprint(f\"left: {(dl, sl, il, pl)}, right: {(dr, sr, ir, pr)}, errs: {errs}\")\n",
    "                    lprint(\"Did not find right values\", color=RED)\n",
    "                print((dl, sl, il, pl),(dr, sr, ir, pr), errs)\n",
    "                self.stats.append(((dl, sl, il, pl),(dr, sr, ir, pr), errs))\n",
    "                self.dl, self.dr = dl, dr\n",
    "                self.sl, self.sr = sl, sr\n",
    "                self.il, self.ir = il, ir\n",
    "                self.pl, self.pr = pl, pr\n",
    "                self.errs = errs\n",
    "                return\n",
    "\n",
    "        lprint(\"-- ERROR while parsing monitor output (see log.txt)--\")\n",
    "        log(out)\n",
    "        raise RuntimeError(\"Did not find right values\")\n",
    "        \n",
    "    def report(self, msg=None):\n",
    "        assert self.stats\n",
    "        if msg:\n",
    "            lprint(msg, end=' ', color=\"\\033[0;32m\")\n",
    "        # FIXME: average is not a good statistics here\n",
    "        dl = sum(self.stats[i][0][0] for i in range(len(self.stats)))\n",
    "        dr = sum(self.stats[i][1][0] for i in range(len(self.stats)))\n",
    "        sl = sum(self.stats[i][0][1] for i in range(len(self.stats)))\n",
    "        sr = sum(self.stats[i][1][1] for i in range(len(self.stats)))\n",
    "        il = sum(self.stats[i][0][2] for i in range(len(self.stats)))\n",
    "        ir = sum(self.stats[i][1][2] for i in range(len(self.stats)))\n",
    "        pl = sum(self.stats[i][0][3] for i in range(len(self.stats)))\n",
    "        pr = sum(self.stats[i][1][3] for i in range(len(self.stats)))\n",
    "        errs = sum(self.stats[i][2] for i in range(len(self.stats)))\n",
    "        N = repeat_num()\n",
    "        lprint(\\\n",
    "f\"\"\"\n",
    "For {NUM} incoming events, average of {N} measurements:\n",
    "\n",
    "Left dropped: {dl / N}\n",
    "Right dropped: {dr / N}\n",
    "Left skipped: {sl / N}\n",
    "Right skipped: {sr / N}\n",
    "Left ignored: {il / N}\n",
    "Right ignored: {ir / N}\n",
    "Left processed: {pl / N}\n",
    "Right processed: {pr / N}\n",
    "Detected errors: {errs/ N}\"\"\",\n",
    "               color=GREEN)\n",
    "        return ((dl, sl, il, pl),(dr, sr, ir, pr), errs)"
   ]
  },
  {
   "cell_type": "code",
   "execution_count": 10,
   "id": "0da6f460-314b-4e18-a21c-0c1430cf5a67",
   "metadata": {
    "jupyter": {
     "source_hidden": true
    }
   },
   "outputs": [
    {
     "name": "stdout",
     "output_type": "stream",
     "text": [
      "Enumerating primes up to 5000th prime...\n",
      "Taking average of 10 runs...\n",
      "\n"
     ]
    }
   ],
   "source": [
    "lprint(f\"Enumerating primes up to {NUM}th prime...\")\n",
    "lprint(f\"Taking average of {repeat_num()} runs...\\n\")"
   ]
  },
  {
   "cell_type": "code",
   "execution_count": 11,
   "id": "77e402e2-409c-4e0e-a22c-81dff2f6bbe1",
   "metadata": {
    "jupyter": {
     "source_hidden": true
    },
    "tags": []
   },
   "outputs": [
    {
     "name": "stdout",
     "output_type": "stream",
     "text": [
      "\u001b[0;34m------- 'C primes' alone ------\u001b[0m\n",
      "\u001b[0;32mAvg CPU time (10 measurements): 0.08557010000000001 seconds.\n",
      "\u001b[0m\n"
     ]
    },
    {
     "data": {
      "text/plain": [
       "0.08557010000000001"
      ]
     },
     "execution_count": 11,
     "metadata": {},
     "output_type": "execute_result"
    }
   ],
   "source": [
    "c_native = ParseTime()\n",
    "measure(\"'C primes' alone\",\n",
    "        [Command(f\"{PRIMESPATH}/primes\", NUM).withparser(c_native)])\n",
    "c_native.report()"
   ]
  },
  {
   "cell_type": "code",
   "execution_count": 12,
   "id": "186fb247-7a48-4b71-9545-149498250e2a",
   "metadata": {
    "jupyter": {
     "source_hidden": true
    }
   },
   "outputs": [
    {
     "name": "stdout",
     "output_type": "stream",
     "text": [
      "\u001b[0;34m------- 'C primes' DynamoRIO (no monitor) ------\u001b[0m\n",
      "\u001b[0;32mAvg CPU time (10 measurements): 0.10389319999999999 seconds.\n",
      "\u001b[0m\n"
     ]
    },
    {
     "data": {
      "text/plain": [
       "0.10389319999999999"
      ]
     },
     "execution_count": 12,
     "metadata": {},
     "output_type": "execute_result"
    }
   ],
   "source": [
    "c_drio = ParseTime()\n",
    "measure(\"'C primes' DynamoRIO (no monitor)\",\n",
    "        [Command(*DRIO, \"--\", f\"{PRIMESPATH}/primes\", NUM).withparser(c_drio)])\n",
    "c_drio.report()"
   ]
  },
  {
   "cell_type": "code",
   "execution_count": 13,
   "id": "79ee01c6-401e-4aca-b93f-e1d17227ff40",
   "metadata": {
    "tags": []
   },
   "outputs": [
    {
     "name": "stdout",
     "output_type": "stream",
     "text": [
      "\u001b[0;34m------- 'C primes' piping (monitor reads and drops) ------\u001b[0m\n",
      "\u001b[0;32mAvg CPU time (10 measurements): 0.47452819999999996 seconds.\n",
      "\u001b[0m\n"
     ]
    },
    {
     "data": {
      "text/plain": [
       "0.47452819999999996"
      ]
     },
     "execution_count": 13,
     "metadata": {},
     "output_type": "execute_result"
    }
   ],
   "source": [
    "c_pipes = ParseTime()\n",
    "measure(\"'C primes' piping (monitor reads and drops)\",\n",
    "        [PipedCommands(Command(f\"{PRIMESPATH}/primes\", NUM).withparser(c_pipes),\n",
    "                       Command(f\"{SHAMONPATH}/sources/regex\", \"/primes\", \"prime\", \"#([0-9]+): ([0-9]+)\", \"ii\"))],\n",
    "        [Command(f\"{SHAMONPATH}/experiments/monitor-consume\", \"primes:regex:/primes\")])\n",
    "c_pipes.report()"
   ]
  },
  {
   "cell_type": "code",
   "execution_count": 14,
   "id": "bb14e10e-bcdd-42e9-954f-7bafdeb956b8",
   "metadata": {
    "tags": []
   },
   "outputs": [
    {
     "ename": "NameError",
     "evalue": "name 'N' is not defined",
     "output_type": "error",
     "traceback": [
      "\u001b[0;31m---------------------------------------------------------------------------\u001b[0m",
      "\u001b[0;31mNameError\u001b[0m                                 Traceback (most recent call last)",
      "Input \u001b[0;32mIn [14]\u001b[0m, in \u001b[0;36m<cell line: 2>\u001b[0;34m()\u001b[0m\n\u001b[1;32m      1\u001b[0m c_drio_consume \u001b[38;5;241m=\u001b[39m ParseTime()\n\u001b[1;32m      2\u001b[0m measure(\u001b[38;5;124m\"\u001b[39m\u001b[38;5;124m'\u001b[39m\u001b[38;5;124mC primes\u001b[39m\u001b[38;5;124m'\u001b[39m\u001b[38;5;124m DynamoRIO (monitor reads and drops)\u001b[39m\u001b[38;5;124m\"\u001b[39m,\n\u001b[1;32m      3\u001b[0m         [Command(\u001b[38;5;241m*\u001b[39mDRIO, \u001b[38;5;124m\"\u001b[39m\u001b[38;5;124m-c\u001b[39m\u001b[38;5;124m\"\u001b[39m, \u001b[38;5;124mf\u001b[39m\u001b[38;5;124m\"\u001b[39m\u001b[38;5;132;01m{\u001b[39;00mSHAMONPATH\u001b[38;5;132;01m}\u001b[39;00m\u001b[38;5;124m/sources/drregex/libdrregex.so\u001b[39m\u001b[38;5;124m\"\u001b[39m,\n\u001b[1;32m      4\u001b[0m                  \u001b[38;5;124m\"\u001b[39m\u001b[38;5;124m/primes1\u001b[39m\u001b[38;5;124m\"\u001b[39m, \u001b[38;5;124m\"\u001b[39m\u001b[38;5;124mprime\u001b[39m\u001b[38;5;124m\"\u001b[39m, \u001b[38;5;124m\"\u001b[39m\u001b[38;5;124m#([0-9]+): ([0-9]+)\u001b[39m\u001b[38;5;124m\"\u001b[39m, \u001b[38;5;124m\"\u001b[39m\u001b[38;5;124mii\u001b[39m\u001b[38;5;124m\"\u001b[39m,\n\u001b[0;32m----> 5\u001b[0m                  \u001b[38;5;124m\"\u001b[39m\u001b[38;5;124m--\u001b[39m\u001b[38;5;124m\"\u001b[39m, \u001b[38;5;124mf\u001b[39m\u001b[38;5;124m\"\u001b[39m\u001b[38;5;132;01m{\u001b[39;00mPRIMESPATH\u001b[38;5;132;01m}\u001b[39;00m\u001b[38;5;124m/primes\u001b[39m\u001b[38;5;124m\"\u001b[39m, \u001b[43mN\u001b[49m)\u001b[38;5;241m.\u001b[39mwithparser(c_drio_consume)],\n\u001b[1;32m      6\u001b[0m         [Command(\u001b[38;5;124mf\u001b[39m\u001b[38;5;124m\"\u001b[39m\u001b[38;5;132;01m{\u001b[39;00mSHAMONPATH\u001b[38;5;132;01m}\u001b[39;00m\u001b[38;5;124m/experiments/monitor-consume\u001b[39m\u001b[38;5;124m\"\u001b[39m, \u001b[38;5;124m\"\u001b[39m\u001b[38;5;124mprimes:drregex:/primes1\u001b[39m\u001b[38;5;124m\"\u001b[39m)\u001b[38;5;241m.\u001b[39mwithparser(PrintOutErr())])\n\u001b[1;32m      7\u001b[0m c_drio_consume\u001b[38;5;241m.\u001b[39mreport()\n",
      "\u001b[0;31mNameError\u001b[0m: name 'N' is not defined"
     ]
    }
   ],
   "source": [
    "c_drio_consume = ParseTime()\n",
    "measure(\"'C primes' DynamoRIO (monitor reads and drops)\",\n",
    "        [Command(*DRIO, \"-c\", f\"{SHAMONPATH}/sources/drregex/libdrregex.so\",\n",
    "                 \"/primes1\", \"prime\", \"#([0-9]+): ([0-9]+)\", \"ii\",\n",
    "                 \"--\", f\"{PRIMESPATH}/primes\", NUM).withparser(c_drio_consume)],\n",
    "        [Command(f\"{SHAMONPATH}/experiments/monitor-consume\", \"primes:drregex:/primes1\").withparser(PrintOutErr())])\n",
    "c_drio_consume.report()"
   ]
  },
  {
   "cell_type": "code",
   "execution_count": null,
   "id": "4638afbd-1add-4bd3-a524-46719784fb67",
   "metadata": {
    "tags": []
   },
   "outputs": [],
   "source": [
    "python_native = ParseTime()\n",
    "measure(\"'Python primes' alone\", [Command(f\"{PRIMESPATH}/primes.py\", NUM).withparser(python_native)])\n",
    "python_native.report()"
   ]
  },
  {
   "cell_type": "code",
   "execution_count": null,
   "id": "4f3fcc65-cfef-43e2-a7c6-5c40d542fba2",
   "metadata": {
    "jupyter": {
     "source_hidden": true
    }
   },
   "outputs": [],
   "source": [
    "python_drio = ParseTime()\n",
    "measure(\"'Python primes' DynamoRIO (no monitor)\",\n",
    "        [Command(*DRIO, \"--\", \"python3\", f\"{PRIMESPATH}/primes.py\", NUM).withparser(python_drio)])\n",
    "python_drio.report()"
   ]
  },
  {
   "cell_type": "code",
   "execution_count": null,
   "id": "8f06bc32-8074-44ae-9082-03d8b5da5849",
   "metadata": {
    "jupyter": {
     "source_hidden": true
    }
   },
   "outputs": [],
   "source": [
    "python_pipe = ParseTime()\n",
    "measure(\"'Python primes' piping (monitor reads and drops)\",\n",
    "        [PipedCommands(Command(\"python3\", f\"{PRIMESPATH}/primes.py\", NUM).withparser(python_pipe),\n",
    "                       Command(f\"{SHAMONPATH}/sources/regex\", \"/primes\", \"prime\", \"#([0-9]+): ([0-9]+)\", \"ii\"))],\n",
    "        [Command(f\"{SHAMONPATH}/experiments/monitor-consume\", \"primes:regex:/primes\")])\n",
    "python_pipe.report()"
   ]
  },
  {
   "cell_type": "code",
   "execution_count": null,
   "id": "13ec7579-3961-4f9b-bb8f-dac3ad2438a8",
   "metadata": {
    "jupyter": {
     "source_hidden": true
    }
   },
   "outputs": [],
   "source": [
    "python_drio_consume = ParseTime()\n",
    "measure(\"'Python primes' DynamoRIO (monitor reads and drops)\",\n",
    "        [Command(*DRIO, \"-c\", f\"{SHAMONPATH}/sources/drregex/libdrregex.so\", \n",
    "                 \"/primes1\", \"prime\", \"#([0-9]+): ([0-9]+)\", \"ii\",\n",
    "                 \"--\", \"python3\", f\"{PRIMESPATH}/primes.py\", NUM).withparser(python_drio_consume)],\n",
    "        [Command(f\"{SHAMONPATH}/experiments/monitor-consume\", \"primes:drregex:/primes1\")])\n",
    "python_drio_consume.report()"
   ]
  },
  {
   "cell_type": "code",
   "execution_count": null,
   "id": "f4640459-a5d7-40ec-9e94-130a6e266e79",
   "metadata": {
    "jupyter": {
     "source_hidden": true
    }
   },
   "outputs": [],
   "source": [
    "dm_pipes_time_c = ParseTime()\n",
    "dm_pipes_time_py = ParseTime()\n",
    "dm_pipes_stats = ParseStats()\n",
    "measure(\"'Differential monitor C/Py for primes' piping\",\n",
    "        [PipedCommands(Command(f\"{PRIMESPATH}/primes\", NUM).withparser(dm_pipes_time_c),\n",
    "                       Command(f\"{SHAMONPATH}/sources/regex\", \"/primes1\", \"prime\", \"#([0-9]+): ([0-9]+)\", \"ii\")),\n",
    "         PipedCommands(Command(\"python3\", f\"{PRIMESPATH}/primes.py\", NUM).withparser(dm_pipes_time_py),\n",
    "                       Command(f\"{SHAMONPATH}/sources/regex\", \"/primes2\", \"prime\", \"#([0-9]+): ([0-9]+)\", \"ii\"))],\n",
    "        [Command(\"./monitor\", \"Left:drregex:/primes1\", \"Right:drregex:/primes2\").withparser(dm_pipes_stats)])\n",
    "dm_pipes_time_c.report(msg=\"C program\")\n",
    "dm_pipes_time_py.report(msg=\"Python program\")\n",
    "dm_pipes_stats.report()"
   ]
  },
  {
   "cell_type": "code",
   "execution_count": null,
   "id": "666b984f-8733-4298-9eb1-6f74ee33cca4",
   "metadata": {
    "jupyter": {
     "source_hidden": true
    }
   },
   "outputs": [],
   "source": [
    "dm_drio_time_c = ParseTime()\n",
    "dm_drio_time_py = ParseTime()\n",
    "dm_drio_stats = ParseStats()\n",
    "measure(\"'Differential monitor C/Py for primes' DynamoRIO sources\",\n",
    "        [Command(*DRIO, \"-c\", f\"{SHAMONPATH}/sources/drregex/libdrregex.so\",\n",
    "                 \"/primes1\", \"prime\", \"#([0-9]+): ([0-9]+)\", \"ii\", \"--\",\n",
    "                 f\"{PRIMESPATH}/primes\", NUM).withparser(dm_drio_time_c),\n",
    "         Command(*DRIO, \"-c\", f\"{SHAMONPATH}/sources/drregex/libdrregex.so\",\n",
    "                 \"/primes2\", \"prime\", \"#([0-9]+): ([0-9]+)\", \"ii\", \"--\",\n",
    "                 \"python3\", f\"{PRIMESPATH}/primes.py\", NUM).withparser(dm_drio_time_py)],\n",
    "        [Command(\"./monitor\", \"Left:drregex:/primes1\", \"Right:drregex:/primes2\").withparser(dm_drio_stats)])\n",
    "dm_drio_time_c.report(msg=\"C program\")\n",
    "dm_drio_time_py.report(msg=\"Python program\")\n",
    "dm_drio_stats.report()"
   ]
  },
  {
   "cell_type": "code",
   "execution_count": null,
   "id": "6604575f-0d0d-4d4a-bc8a-99bacbfc4ea8",
   "metadata": {
    "jupyter": {
     "source_hidden": true
    }
   },
   "outputs": [],
   "source": [
    "dm_pipes_time_c1 = ParseTime()\n",
    "dm_pipes_time_c2 = ParseTime()\n",
    "dm_pipes_stats2 = ParseStats()\n",
    "measure(\"'Differential monitor C/C for primes' piping\",\n",
    "        [PipedCommands(Command(f\"{PRIMESPATH}/primes\", NUM).withparser(dm_pipes_time_c1),\n",
    "                       Command(f\"{SHAMONPATH}/sources/regex\", \"/primes1\", \"prime\", \"#([0-9]+): ([0-9]+)\", \"ii\")),\n",
    "         PipedCommands(Command(f\"{PRIMESPATH}/primes\", NUM).withparser(dm_pipes_time_c2),\n",
    "                       Command(f\"{SHAMONPATH}/sources/regex\", \"/primes2\", \"prime\", \"#([0-9]+): ([0-9]+)\", \"ii\"))],\n",
    "        [Command(\"./monitor\", \"Left:drregex:/primes1\", \"Right:drregex:/primes2\").withparser(dm_pipes_stats2)])\n",
    "dm_pipes_time_c1.report(msg=\"C program (1)\")\n",
    "dm_pipes_time_c2.report(msg=\"C program (2)\")\n",
    "dm_pipes_stats2.report()"
   ]
  },
  {
   "cell_type": "code",
   "execution_count": null,
   "id": "b23fdf80-9e31-4e4c-8bee-3dfc2e9bcf5d",
   "metadata": {
    "jupyter": {
     "source_hidden": true
    }
   },
   "outputs": [],
   "source": [
    "dm_drio_time_c1 = ParseTime()\n",
    "dm_drio_time_c2 = ParseTime()\n",
    "dm_drio_stats2 = ParseStats()\n",
    "measure(\"'Differential monitor C/C for primes' DynamoRIO sources\",\n",
    "        [Command(*DRIO, \"-c\", f\"{SHAMONPATH}/sources/drregex/libdrregex.so\",\n",
    "                 \"/primes1\", \"prime\", \"#([0-9]+): ([0-9]+)\", \"ii\", \"--\",\n",
    "                 f\"{PRIMESPATH}/primes\", NUM).withparser(dm_drio_time_c1),\n",
    "         Command(*DRIO, \"-c\", f\"{SHAMONPATH}/sources/drregex/libdrregex.so\",\n",
    "                 \"/primes2\", \"prime\", \"#([0-9]+): ([0-9]+)\", \"ii\", \"--\",\n",
    "                 f\"{PRIMESPATH}/primes\", NUM).withparser(dm_drio_time_c2)],\n",
    "        [Command(\"./monitor\", \"Left:drregex:/primes1\", \"Right:drregex:/primes2\").withparser(dm_drio_stats2)])\n",
    "dm_drio_time_c1.report(msg=\"C program\")\n",
    "dm_drio_time_c2.report(msg=\"Python program\")\n",
    "dm_drio_stats2.report()"
   ]
  },
  {
   "cell_type": "code",
   "execution_count": null,
   "id": "95beacd0-56e8-40b5-a4df-5e071e52cb26",
   "metadata": {
    "jupyter": {
     "source_hidden": true
    }
   },
   "outputs": [],
   "source": [
    "dm_pipes_bad_time_c1 = ParseTime()\n",
    "dm_pipes_bad_time_c2 = ParseTime()\n",
    "dm_pipes_bad_stats2 = ParseStats()\n",
    "measure(\"'Differential monitor C/C for primes' piping, 10% mistakes\",\n",
    "        [PipedCommands(Command(f\"{PRIMESPATH}/primes\", NUM).withparser(dm_pipes_bad_time_c1),\n",
    "                       Command(f\"{SHAMONPATH}/sources/regex\", \"/primes1\", \"prime\", \"#([0-9]+): ([0-9]+)\", \"ii\")),\n",
    "         PipedCommands(Command(f\"{PRIMESPATH}/primes-bad\", NUM, str(int(NUM)/10)).withparser(dm_pipes_bad_time_c2),\n",
    "                       Command(f\"{SHAMONPATH}/sources/regex\", \"/primes2\", \"prime\", \"#([0-9]+): ([0-9]+)\", \"ii\"))],\n",
    "        [Command(\"./monitor\", \"Left:drregex:/primes1\", \"Right:drregex:/primes2\").withparser(dm_pipes_bad_stats2)])\n",
    "dm_pipes_bad_time_c1.report(msg=\"C program (1)\")\n",
    "dm_pipes_bad_time_c2.report(msg=\"C program (2)\")\n",
    "dm_pipes_bad_stats2.report()"
   ]
  },
  {
   "cell_type": "code",
   "execution_count": null,
   "id": "d1d8647e-51fe-496f-ab24-cd15c7439035",
   "metadata": {
    "jupyter": {
     "source_hidden": true
    },
    "tags": []
   },
   "outputs": [],
   "source": [
    "log(f\"-- Removing working directory {WORKINGDIR} --\")\n",
    "close_log()\n",
    "# chdir(\"/\")\n",
    "# rmtree(WORKINGDIR)"
   ]
  }
 ],
 "metadata": {
  "kernelspec": {
   "display_name": "Python 3 (ipykernel)",
   "language": "python",
   "name": "python3"
  },
  "language_info": {
   "codemirror_mode": {
    "name": "ipython",
    "version": 3
   },
   "file_extension": ".py",
   "mimetype": "text/x-python",
   "name": "python",
   "nbconvert_exporter": "python",
   "pygments_lexer": "ipython3",
   "version": "3.9.2"
  }
 },
 "nbformat": 4,
 "nbformat_minor": 5
}
