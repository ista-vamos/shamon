{
 "cells": [
  {
   "cell_type": "code",
   "execution_count": 1,
   "id": "03bad889-87c8-4b68-b3a1-82173fbd75b2",
   "metadata": {},
   "outputs": [],
   "source": [
    "from tempfile import mkdtemp\n",
    "from shutil import rmtree\n",
    "from os import chdir"
   ]
  },
  {
   "cell_type": "code",
   "execution_count": 2,
   "id": "1803b644-4846-4b73-a3f3-2d663c035d84",
   "metadata": {},
   "outputs": [],
   "source": [
    "from measure import *"
   ]
  },
  {
   "cell_type": "code",
   "execution_count": 3,
   "id": "c1c99a79-6567-4431-99d8-f38e9077cc47",
   "metadata": {},
   "outputs": [],
   "source": [
    "SHAMONPATH=\"/home/marek/monitoring/shamon\"\n",
    "DRIOPATH=\"/home/marek/monitoring/dynamorio/\"\n",
    "set_repeat_num(10)\n",
    "NUM=\"2000\""
   ]
  },
  {
   "cell_type": "code",
   "execution_count": 4,
   "id": "ff18681c-84ad-48cf-8e98-e721ab25f7a7",
   "metadata": {},
   "outputs": [],
   "source": [
    "WORKINGDIR = mkdtemp(prefix=\"midmon.\", dir=\"/tmp\")\n",
    "DRRUN=f\"{DRIOPATH}/build/bin64/drrun\"\n",
    "DRIO=[DRRUN, \"-root\",  f\"{DRIOPATH}/build/\",\n",
    "             \"-opt_cleancall\", \"2\", \"-opt_speed\"]\n",
    "PRIMESPATH=f\"{SHAMONPATH}/experiments/primes\"\n",
    "PRIMESSRC=f\"{SHAMONPATH}/mmtest/mmprimes.c\"\n",
    "COMPILESH=f\"{SHAMONPATH}/gen/compile.sh\""
   ]
  },
  {
   "cell_type": "code",
   "execution_count": 5,
   "id": "44fcb97e-49df-4cb1-99c9-fb7592c36690",
   "metadata": {},
   "outputs": [],
   "source": [
    "open_log()"
   ]
  },
  {
   "cell_type": "code",
   "execution_count": 6,
   "id": "2042ced6-8744-4b60-a5c9-d1da49d6a3be",
   "metadata": {},
   "outputs": [
    {
     "name": "stdout",
     "output_type": "stream",
     "text": [
      "-- Working directory is /tmp/midmon.uco3qs75 --\n",
      "-- Log: /tmp/midmon.uco3qs75/log.txt --\n"
     ]
    }
   ],
   "source": [
    "chdir(WORKINGDIR)\n",
    "lprint(f\"-- Working directory is {WORKINGDIR} --\")\n",
    "lprint(f\"-- Log: {WORKINGDIR}/log.txt --\")"
   ]
  },
  {
   "cell_type": "code",
   "execution_count": 7,
   "id": "ef7e6b0f-1d19-40e4-99b2-8abd52f28953",
   "metadata": {},
   "outputs": [
    {
     "name": "stdout",
     "output_type": "stream",
     "text": [
      "-- Compiling monitor --\n",
      "-- Monitor compiled --\n"
     ]
    }
   ],
   "source": [
    "lprint(\"-- Compiling monitor --\")\n",
    "compile_monitor(COMPILESH, PRIMESSRC)"
   ]
  },
  {
   "cell_type": "code",
   "execution_count": 8,
   "id": "d7015546-823c-4020-a987-270ca4fa14f7",
   "metadata": {},
   "outputs": [],
   "source": [
    "class ParseTime:\n",
    "    def __init__(self):\n",
    "        self.times = []\n",
    "        self.time = 0\n",
    "\n",
    "    def parse(self, out, err):\n",
    "        for line in err.splitlines():\n",
    "            if line.startswith(b'time:'):\n",
    "                parts = line.split()\n",
    "                assert len(parts) == 3, parts\n",
    "                f = float(parts[1])\n",
    "                assert f > 0\n",
    "                self.times.append(f)\n",
    "                self.time += f\n",
    "                return\n",
    "\n",
    "        log(\"-- ERROR while parsing stderr for time info:\",\n",
    "            \"-- ERROR while parsing time (see log.txt)--\")\n",
    "        log(err)\n",
    "        raise RuntimeError(\"Did not find time value\")\n",
    "            \n",
    "    def report(self, msg=None):\n",
    "        assert self.time > 0, f\"Invalid time: {self.time}\"\n",
    "        if msg:\n",
    "            lprint(msg, end=' ', color=\"\\033[0;32m\")\n",
    "        val = self.time / repeat_num()\n",
    "        lprint(f\"Avg CPU time ({repeat_num()} measurements): {val} seconds.\", color=\"\\033[0;32m\")\n",
    "        return val"
   ]
  },
  {
   "cell_type": "code",
   "execution_count": 9,
   "id": "d9e9c4cd-1fbd-4800-9fb4-53534d043424",
   "metadata": {},
   "outputs": [],
   "source": [
    "class ParseStats:\n",
    "    def __init__(self):\n",
    "        self.stats = []\n",
    "        self.dl, self.dr = None, None\n",
    "        self.sl, self.sr = None, None\n",
    "        self.il, self.ir = None, None\n",
    "        self.pl, self.pr = None, None\n",
    "        self.errs = None\n",
    "\n",
    "    def parse(self, out, err):\n",
    "        errs = 0\n",
    "        for line in out.splitlines():\n",
    "            if line.startswith(b'ERROR'):\n",
    "                errs += 1\n",
    "            if line.startswith(b'Done!'):\n",
    "                parts = line.split()\n",
    "                assert len(parts) == 25, parts\n",
    "                dl, dr = int(parts[2]), int(parts[5])\n",
    "                sl, sr = int(parts[8]), int(parts[11])\n",
    "                il, ir = int(parts[14]), int(parts[17])\n",
    "                pl, pr = int(parts[20]), int(parts[23])\n",
    "                if dl + sl + il + pl == 0 or dl + sl + il + pl != dr + sr + ir + pr:\n",
    "                    log(out)\n",
    "                    lprint(f\"left: {(dl, sl, il, pl)}, right: {(dr, sr, ir, pr)}, errs: {errs}\")\n",
    "                    lprint(\"Did not find right values\", color=RED)\n",
    "                print((dl, sl, il, pl),(dr, sr, ir, pr), errs)\n",
    "                self.stats.append(((dl, sl, il, pl),(dr, sr, ir, pr), errs))\n",
    "                self.dl, self.dr = dl, dr\n",
    "                self.sl, self.sr = sl, sr\n",
    "                self.il, self.ir = il, ir\n",
    "                self.pl, self.pr = pl, pr\n",
    "                self.errs = errs\n",
    "                return\n",
    "\n",
    "        lprint(\"-- ERROR while parsing monitor output (see log.txt)--\")\n",
    "        log(out)\n",
    "        raise RuntimeError(\"Did not find right values\")\n",
    "        \n",
    "    def report(self, msg=None):\n",
    "        assert self.stats\n",
    "        if msg:\n",
    "            lprint(msg, end=' ', color=\"\\033[0;32m\")\n",
    "        # FIXME: average is not a good statistics here\n",
    "        dl = sum(self.stats[i][0][0] for i in range(len(self.stats)))\n",
    "        dr = sum(self.stats[i][1][0] for i in range(len(self.stats)))\n",
    "        sl = sum(self.stats[i][0][1] for i in range(len(self.stats)))\n",
    "        sr = sum(self.stats[i][1][1] for i in range(len(self.stats)))\n",
    "        il = sum(self.stats[i][0][2] for i in range(len(self.stats)))\n",
    "        ir = sum(self.stats[i][1][2] for i in range(len(self.stats)))\n",
    "        pl = sum(self.stats[i][0][3] for i in range(len(self.stats)))\n",
    "        pr = sum(self.stats[i][1][3] for i in range(len(self.stats)))\n",
    "        errs = sum(self.stats[i][2] for i in range(len(self.stats)))\n",
    "        N = repeat_num()\n",
    "        lprint(f\"For {NUM} incoming events, average of {N} measurements:\", color=GREEN)\n",
    "        lprint(f\"Left dropped: {dl / N}\", color=GREEN)\n",
    "        lprint(f\"Right dropped: {dr / N}\", color=GREEN)\n",
    "        lprint(f\"Left skipped: {sl / N}\", color=GREEN)\n",
    "        lprint(f\"Right skipped: {sr / N}\", color=GREEN)\n",
    "        lprint(f\"Left ignored: {il / N}\", color=GREEN)\n",
    "        lprint(f\"Right ignored: {ir / N}\", color=GREEN)\n",
    "        lprint(f\"Left processed: {pl / N}\", color=GREEN)\n",
    "        lprint(f\"Right processed: {pr / N}\", color=GREEN)\n",
    "        lprint(f\"Detected errors: {errs/ N}\", color=GREEN)\n",
    "        return ((dl, sl, il, pl),(dr, sr, ir, pr), errs)"
   ]
  },
  {
   "cell_type": "code",
   "execution_count": 10,
   "id": "0da6f460-314b-4e18-a21c-0c1430cf5a67",
   "metadata": {},
   "outputs": [
    {
     "name": "stdout",
     "output_type": "stream",
     "text": [
      "Enumerating primes up to 2000th prime...\n",
      "Taking average of 10 runs...\n",
      "\n"
     ]
    }
   ],
   "source": [
    "lprint(f\"Enumerating primes up to {NUM}th prime...\")\n",
    "lprint(f\"Taking average of {repeat_num()} runs...\\n\")"
   ]
  },
  {
   "cell_type": "code",
   "execution_count": 11,
   "id": "77e402e2-409c-4e0e-a22c-81dff2f6bbe1",
   "metadata": {},
   "outputs": [
    {
     "name": "stdout",
     "output_type": "stream",
     "text": [
      "\u001b[0;34m------- 'C primes' alone ------\u001b[0m\n",
      "\u001b[0;32mAvg CPU time (10 measurements): 0.033614099999999994 seconds.\n",
      "\u001b[0m\n"
     ]
    },
    {
     "data": {
      "text/plain": [
       "0.033614099999999994"
      ]
     },
     "execution_count": 11,
     "metadata": {},
     "output_type": "execute_result"
    }
   ],
   "source": [
    "c_native = ParseTime()\n",
    "measure(\"'C primes' alone\",\n",
    "        [Command(f\"{PRIMESPATH}/primes\", NUM).withparser(c_native)])\n",
    "c_native.report()"
   ]
  },
  {
   "cell_type": "code",
   "execution_count": 12,
   "id": "186fb247-7a48-4b71-9545-149498250e2a",
   "metadata": {},
   "outputs": [
    {
     "name": "stdout",
     "output_type": "stream",
     "text": [
      "\u001b[0;34m------- 'C primes' DynamoRIO (no monitor) ------\u001b[0m\n",
      "\u001b[0;32mAvg CPU time (10 measurements): 0.0297244 seconds.\n",
      "\u001b[0m\n"
     ]
    },
    {
     "data": {
      "text/plain": [
       "0.0297244"
      ]
     },
     "execution_count": 12,
     "metadata": {},
     "output_type": "execute_result"
    }
   ],
   "source": [
    "c_drio = ParseTime()\n",
    "measure(\"'C primes' DynamoRIO (no monitor)\",\n",
    "        [Command(*DRIO, \"--\", f\"{PRIMESPATH}/primes\", NUM).withparser(c_drio)])\n",
    "c_drio.report()"
   ]
  },
  {
   "cell_type": "code",
   "execution_count": 13,
   "id": "79ee01c6-401e-4aca-b93f-e1d17227ff40",
   "metadata": {},
   "outputs": [
    {
     "name": "stdout",
     "output_type": "stream",
     "text": [
      "\u001b[0;34m------- 'C primes' piping (monitor reads and drops) ------\u001b[0m\n",
      "\u001b[0;32mAvg CPU time (10 measurements): 0.0964265 seconds.\n",
      "\u001b[0m\n"
     ]
    },
    {
     "data": {
      "text/plain": [
       "0.0964265"
      ]
     },
     "execution_count": 13,
     "metadata": {},
     "output_type": "execute_result"
    }
   ],
   "source": [
    "c_pipes = ParseTime()\n",
    "measure(\"'C primes' piping (monitor reads and drops)\",\n",
    "        [PipedCommands(Command(f\"{PRIMESPATH}/primes\", NUM).withparser(c_pipes),\n",
    "                       Command(f\"{SHAMONPATH}/sources/regex\", \"/primes\", \"prime\", \"#([0-9]+): ([0-9]+)\", \"ii\"))],\n",
    "        [Command(f\"{SHAMONPATH}/experiments/monitor-consume\", \"primes:regex:/primes\")])\n",
    "c_pipes.report()"
   ]
  },
  {
   "cell_type": "code",
   "execution_count": 14,
   "id": "ad9ef72d-992c-45a0-aa46-8e0b5c92e613",
   "metadata": {},
   "outputs": [
    {
     "name": "stdout",
     "output_type": "stream",
     "text": [
      "\u001b[0;34m------- 'C primes' DynamoRIO (monitor reads and drops) ------\u001b[0m\n",
      "\u001b[0;31mMonitor /home/marek/monitoring/shamon/experiments/monitor-consume primes:drregex:/primes1 had errors\u001b[0m\n",
      "\u001b[0;31mMonitor /home/marek/monitoring/shamon/experiments/monitor-consume primes:drregex:/primes1 had errors\u001b[0m\n",
      "\u001b[0;31mMonitor /home/marek/monitoring/shamon/experiments/monitor-consume primes:drregex:/primes1 had errors\u001b[0m\n",
      "\u001b[0;32mAvg CPU time (10 measurements): 0.024763 seconds.\n",
      "\u001b[0m\n"
     ]
    },
    {
     "data": {
      "text/plain": [
       "0.024763"
      ]
     },
     "execution_count": 14,
     "metadata": {},
     "output_type": "execute_result"
    }
   ],
   "source": [
    "c_drio_consume = ParseTime()\n",
    "measure(\"'C primes' DynamoRIO (monitor reads and drops)\",\n",
    "        [Command(*DRIO, \"-c\", f\"{SHAMONPATH}/sources/drregex/libdrregex.so\",\n",
    "                 \"/primes1\", \"prime\", \"#([0-9]+): ([0-9]+)\", \"ii\",\n",
    "                 \"--\", f\"{PRIMESPATH}/primes\", NUM).withparser(c_drio_consume)],\n",
    "        #[Command(f\"{SHAMONPATH}/experiments/monitor-consume\", \"primes:drregex:/primes1\").withparser(PrintOutErr())])\n",
    "        [Command(f\"{SHAMONPATH}/experiments/monitor-consume\", \"primes:drregex:/primes1\")])\n",
    "c_drio_consume.report()"
   ]
  },
  {
   "cell_type": "code",
   "execution_count": 15,
   "id": "4638afbd-1add-4bd3-a524-46719784fb67",
   "metadata": {},
   "outputs": [
    {
     "name": "stdout",
     "output_type": "stream",
     "text": [
      "\u001b[0;34m------- 'Python primes' alone ------\u001b[0m\n",
      "\u001b[0;32mAvg CPU time (10 measurements): 0.15292302000000002 seconds.\n",
      "\u001b[0m\n"
     ]
    },
    {
     "data": {
      "text/plain": [
       "0.15292302000000002"
      ]
     },
     "execution_count": 15,
     "metadata": {},
     "output_type": "execute_result"
    }
   ],
   "source": [
    "python_native = ParseTime()\n",
    "measure(\"'Python primes' alone\", [Command(f\"{PRIMESPATH}/primes.py\", NUM).withparser(python_native)])\n",
    "python_native.report()"
   ]
  },
  {
   "cell_type": "code",
   "execution_count": 16,
   "id": "4f3fcc65-cfef-43e2-a7c6-5c40d542fba2",
   "metadata": {},
   "outputs": [
    {
     "name": "stdout",
     "output_type": "stream",
     "text": [
      "\u001b[0;34m------- 'Python primes' DynamoRIO (no monitor) ------\u001b[0m\n",
      "\u001b[0;32mAvg CPU time (10 measurements): 0.25992419000000005 seconds.\n",
      "\u001b[0m\n"
     ]
    },
    {
     "data": {
      "text/plain": [
       "0.25992419000000005"
      ]
     },
     "execution_count": 16,
     "metadata": {},
     "output_type": "execute_result"
    }
   ],
   "source": [
    "python_drio = ParseTime()\n",
    "measure(\"'Python primes' DynamoRIO (no monitor)\",\n",
    "        [Command(*DRIO, \"--\", \"python3\", f\"{PRIMESPATH}/primes.py\", NUM).withparser(python_drio)])\n",
    "python_drio.report()"
   ]
  },
  {
   "cell_type": "code",
   "execution_count": 17,
   "id": "8f06bc32-8074-44ae-9082-03d8b5da5849",
   "metadata": {},
   "outputs": [
    {
     "name": "stdout",
     "output_type": "stream",
     "text": [
      "\u001b[0;34m------- 'Python primes' piping (monitor reads and drops) ------\u001b[0m\n",
      "\u001b[0;31mMonitor /home/marek/monitoring/shamon/experiments/monitor-consume primes:regex:/primes had errors\u001b[0m\n",
      "\u001b[0;31mMonitor /home/marek/monitoring/shamon/experiments/monitor-consume primes:regex:/primes had errors\u001b[0m\n",
      "\u001b[0;31mMonitor /home/marek/monitoring/shamon/experiments/monitor-consume primes:regex:/primes had errors\u001b[0m\n",
      "\u001b[0;31mMonitor /home/marek/monitoring/shamon/experiments/monitor-consume primes:regex:/primes had errors\u001b[0m\n",
      "\u001b[0;31mMonitor /home/marek/monitoring/shamon/experiments/monitor-consume primes:regex:/primes had errors\u001b[0m\n",
      "\u001b[0;31mMonitor /home/marek/monitoring/shamon/experiments/monitor-consume primes:regex:/primes had errors\u001b[0m\n",
      "\u001b[0;31mMonitor /home/marek/monitoring/shamon/experiments/monitor-consume primes:regex:/primes had errors\u001b[0m\n",
      "\u001b[0;32mAvg CPU time (10 measurements): 0.8887859700000004 seconds.\n",
      "\u001b[0m\n"
     ]
    },
    {
     "data": {
      "text/plain": [
       "0.8887859700000004"
      ]
     },
     "execution_count": 17,
     "metadata": {},
     "output_type": "execute_result"
    }
   ],
   "source": [
    "python_pipe = ParseTime()\n",
    "measure(\"'Python primes' piping (monitor reads and drops)\",\n",
    "        [PipedCommands(Command(\"python3\", f\"{PRIMESPATH}/primes.py\", NUM).withparser(python_pipe),\n",
    "                       Command(f\"{SHAMONPATH}/sources/regex\", \"/primes\", \"prime\", \"#([0-9]+): ([0-9]+)\", \"ii\"))],\n",
    "        [Command(f\"{SHAMONPATH}/experiments/monitor-consume\", \"primes:regex:/primes\")])\n",
    "python_pipe.report()"
   ]
  },
  {
   "cell_type": "code",
   "execution_count": 18,
   "id": "13ec7579-3961-4f9b-bb8f-dac3ad2438a8",
   "metadata": {},
   "outputs": [
    {
     "name": "stdout",
     "output_type": "stream",
     "text": [
      "\u001b[0;34m------- 'Python primes' DynamoRIO (monitor reads and drops) ------\u001b[0m\n",
      "\u001b[0;31mMonitor /home/marek/monitoring/shamon/experiments/monitor-consume primes:drregex:/primes1 had errors\u001b[0m\n",
      "\u001b[0;31mMonitor /home/marek/monitoring/shamon/experiments/monitor-consume primes:drregex:/primes1 had errors\u001b[0m\n",
      "\u001b[0;31mMonitor /home/marek/monitoring/shamon/experiments/monitor-consume primes:drregex:/primes1 had errors\u001b[0m\n",
      "\u001b[0;31mMonitor /home/marek/monitoring/shamon/experiments/monitor-consume primes:drregex:/primes1 had errors\u001b[0m\n",
      "\u001b[0;32mAvg CPU time (10 measurements): 0.28737099 seconds.\n",
      "\u001b[0m\n"
     ]
    },
    {
     "data": {
      "text/plain": [
       "0.28737099"
      ]
     },
     "execution_count": 18,
     "metadata": {},
     "output_type": "execute_result"
    }
   ],
   "source": [
    "python_drio_consume = ParseTime()\n",
    "measure(\"'Python primes' DynamoRIO (monitor reads and drops)\",\n",
    "        [Command(*DRIO, \"-c\", f\"{SHAMONPATH}/sources/drregex/libdrregex.so\", \n",
    "                 \"/primes1\", \"prime\", \"#([0-9]+): ([0-9]+)\", \"ii\",\n",
    "                 \"--\", \"python3\", f\"{PRIMESPATH}/primes.py\", NUM).withparser(python_drio_consume)],\n",
    "        [Command(f\"{SHAMONPATH}/experiments/monitor-consume\", \"primes:drregex:/primes1\")])\n",
    "python_drio_consume.report()"
   ]
  },
  {
   "cell_type": "code",
   "execution_count": 19,
   "id": "f4640459-a5d7-40ec-9e94-130a6e266e79",
   "metadata": {},
   "outputs": [
    {
     "name": "stdout",
     "output_type": "stream",
     "text": [
      "\u001b[0;34m------- 'Differential monitor C/Py for primes' piping ------\u001b[0m\n",
      "(0, 0, 0, 131) (0, 0, 0, 131) 0\n",
      "(825, 0, 0, 513) (0, 0, 825, 513) 0\n",
      "(0, 0, 0, 131) (0, 0, 0, 131) 0\n",
      "(0, 0, 0, 131) (0, 0, 0, 131) 0\n",
      "(0, 0, 0, 131) (0, 0, 0, 131) 0\n",
      "(0, 0, 0, 131) (0, 0, 0, 131) 0\n",
      "(1517, 0, 0, 262) (0, 0, 1517, 262) 0\n",
      "(0, 0, 0, 131) (0, 0, 0, 131) 0\n",
      "(0, 0, 0, 131) (0, 0, 0, 131) 0\n",
      "(0, 0, 0, 131) (0, 0, 0, 131) 0\n",
      "\u001b[0;32mC program \u001b[0m\n",
      "\u001b[0;32mAvg CPU time (10 measurements): 0.1377372999999999 seconds.\n",
      "\u001b[0m\n",
      "\u001b[0;32mPython program \u001b[0m\n",
      "\u001b[0;32mAvg CPU time (10 measurements): 1.4102183199999996 seconds.\n",
      "\u001b[0m\n",
      "\u001b[0;32mFor 2000 incoming events, average of 10 measurements:\n",
      "\u001b[0m\n",
      "\u001b[0;32mLeft dropped: 234.2\n",
      "\u001b[0m\n",
      "\u001b[0;32mRight dropped: 0.0\n",
      "\u001b[0m\n",
      "\u001b[0;32mLeft skipped: 0.0\n",
      "\u001b[0m\n",
      "\u001b[0;32mRight skipped: 0.0\n",
      "\u001b[0m\n",
      "\u001b[0;32mLeft ignored: 0.0\n",
      "\u001b[0m\n",
      "\u001b[0;32mRight ignored: 234.2\n",
      "\u001b[0m\n",
      "\u001b[0;32mLeft processed: 182.3\n",
      "\u001b[0m\n",
      "\u001b[0;32mRight processed: 182.3\n",
      "\u001b[0m\n",
      "\u001b[0;32mDetected errors: 0.0\n",
      "\u001b[0m\n"
     ]
    },
    {
     "data": {
      "text/plain": [
       "((2342, 0, 0, 1823), (0, 0, 2342, 1823), 0)"
      ]
     },
     "execution_count": 19,
     "metadata": {},
     "output_type": "execute_result"
    }
   ],
   "source": [
    "dm_pipes_time_c = ParseTime()\n",
    "dm_pipes_time_py = ParseTime()\n",
    "dm_pipes_stats = ParseStats()\n",
    "measure(\"'Differential monitor C/Py for primes' piping\",\n",
    "        [PipedCommands(Command(f\"{PRIMESPATH}/primes\", NUM).withparser(dm_pipes_time_c),\n",
    "                       Command(f\"{SHAMONPATH}/sources/regex\", \"/primes1\", \"prime\", \"#([0-9]+): ([0-9]+)\", \"ii\")),\n",
    "         PipedCommands(Command(\"python3\", f\"{PRIMESPATH}/primes.py\", NUM).withparser(dm_pipes_time_py),\n",
    "                       Command(f\"{SHAMONPATH}/sources/regex\", \"/primes2\", \"prime\", \"#([0-9]+): ([0-9]+)\", \"ii\"))],\n",
    "        [Command(\"./monitor\", \"Left:drregex:/primes1\", \"Right:drregex:/primes2\").withparser(dm_pipes_stats)])\n",
    "dm_pipes_time_c.report(msg=\"C program\")\n",
    "dm_pipes_time_py.report(msg=\"Python program\")\n",
    "dm_pipes_stats.report()"
   ]
  },
  {
   "cell_type": "code",
   "execution_count": 20,
   "id": "666b984f-8733-4298-9eb1-6f74ee33cca4",
   "metadata": {},
   "outputs": [
    {
     "name": "stdout",
     "output_type": "stream",
     "text": [
      "[DBG] ------- 'Differential monitor C/Py for primes' DynamoRIO sources ------\n",
      "\u001b[0;34m------- 'Differential monitor C/Py for primes' DynamoRIO sources ------\u001b[0m\n",
      "[DBG] [DBG] PRG: /home/marek/monitoring/dynamorio//build/bin64/drrun -root /home/marek/monitoring/dynamorio//build/ -opt_cleancall 2 -opt_speed -c /home/marek/monitoring/shamon/sources/drregex/libdrregex.so /primes1 prime '#([0-9]+): ([0-9]+)' ii -- /home/marek/monitoring/shamon/experiments/primes/primes 2000\n",
      "[DBG] [DBG] PRG: /home/marek/monitoring/dynamorio//build/bin64/drrun -root /home/marek/monitoring/dynamorio//build/ -opt_cleancall 2 -opt_speed -c /home/marek/monitoring/shamon/sources/drregex/libdrregex.so /primes2 prime '#([0-9]+): ([0-9]+)' ii -- python3 /home/marek/monitoring/shamon/experiments/primes/primes.py 2000\n",
      "[DBG] [DBG] PRG: ./monitor Left:drregex:/primes1 Right:drregex:/primes2\n",
      "(0, 0, 0, 131) (0, 0, 0, 131) 0\n",
      "[DBG] [DBG] PRG: /home/marek/monitoring/dynamorio//build/bin64/drrun -root /home/marek/monitoring/dynamorio//build/ -opt_cleancall 2 -opt_speed -c /home/marek/monitoring/shamon/sources/drregex/libdrregex.so /primes1 prime '#([0-9]+): ([0-9]+)' ii -- /home/marek/monitoring/shamon/experiments/primes/primes 2000\n",
      "[DBG] [DBG] PRG: /home/marek/monitoring/dynamorio//build/bin64/drrun -root /home/marek/monitoring/dynamorio//build/ -opt_cleancall 2 -opt_speed -c /home/marek/monitoring/shamon/sources/drregex/libdrregex.so /primes2 prime '#([0-9]+): ([0-9]+)' ii -- python3 /home/marek/monitoring/shamon/experiments/primes/primes.py 2000\n",
      "[DBG] [DBG] PRG: ./monitor Left:drregex:/primes1 Right:drregex:/primes2\n",
      "(0, 0, 0, 131) (0, 0, 0, 131) 0\n",
      "[DBG] [DBG] PRG: /home/marek/monitoring/dynamorio//build/bin64/drrun -root /home/marek/monitoring/dynamorio//build/ -opt_cleancall 2 -opt_speed -c /home/marek/monitoring/shamon/sources/drregex/libdrregex.so /primes1 prime '#([0-9]+): ([0-9]+)' ii -- /home/marek/monitoring/shamon/experiments/primes/primes 2000\n",
      "[DBG] [DBG] PRG: /home/marek/monitoring/dynamorio//build/bin64/drrun -root /home/marek/monitoring/dynamorio//build/ -opt_cleancall 2 -opt_speed -c /home/marek/monitoring/shamon/sources/drregex/libdrregex.so /primes2 prime '#([0-9]+): ([0-9]+)' ii -- python3 /home/marek/monitoring/shamon/experiments/primes/primes.py 2000\n",
      "[DBG] [DBG] PRG: ./monitor Left:drregex:/primes1 Right:drregex:/primes2\n",
      "(0, 0, 0, 131) (0, 0, 0, 131) 0\n",
      "[DBG] [DBG] PRG: /home/marek/monitoring/dynamorio//build/bin64/drrun -root /home/marek/monitoring/dynamorio//build/ -opt_cleancall 2 -opt_speed -c /home/marek/monitoring/shamon/sources/drregex/libdrregex.so /primes1 prime '#([0-9]+): ([0-9]+)' ii -- /home/marek/monitoring/shamon/experiments/primes/primes 2000\n",
      "[DBG] [DBG] PRG: /home/marek/monitoring/dynamorio//build/bin64/drrun -root /home/marek/monitoring/dynamorio//build/ -opt_cleancall 2 -opt_speed -c /home/marek/monitoring/shamon/sources/drregex/libdrregex.so /primes2 prime '#([0-9]+): ([0-9]+)' ii -- python3 /home/marek/monitoring/shamon/experiments/primes/primes.py 2000\n",
      "[DBG] [DBG] PRG: ./monitor Left:drregex:/primes1 Right:drregex:/primes2\n",
      "(0, 0, 0, 131) (0, 0, 0, 131) 0\n",
      "[DBG] [DBG] PRG: /home/marek/monitoring/dynamorio//build/bin64/drrun -root /home/marek/monitoring/dynamorio//build/ -opt_cleancall 2 -opt_speed -c /home/marek/monitoring/shamon/sources/drregex/libdrregex.so /primes1 prime '#([0-9]+): ([0-9]+)' ii -- /home/marek/monitoring/shamon/experiments/primes/primes 2000\n",
      "[DBG] [DBG] PRG: /home/marek/monitoring/dynamorio//build/bin64/drrun -root /home/marek/monitoring/dynamorio//build/ -opt_cleancall 2 -opt_speed -c /home/marek/monitoring/shamon/sources/drregex/libdrregex.so /primes2 prime '#([0-9]+): ([0-9]+)' ii -- python3 /home/marek/monitoring/shamon/experiments/primes/primes.py 2000\n",
      "[DBG] [DBG] PRG: ./monitor Left:drregex:/primes1 Right:drregex:/primes2\n",
      "(0, 0, 0, 131) (0, 0, 0, 131) 0\n",
      "[DBG] [DBG] PRG: /home/marek/monitoring/dynamorio//build/bin64/drrun -root /home/marek/monitoring/dynamorio//build/ -opt_cleancall 2 -opt_speed -c /home/marek/monitoring/shamon/sources/drregex/libdrregex.so /primes1 prime '#([0-9]+): ([0-9]+)' ii -- /home/marek/monitoring/shamon/experiments/primes/primes 2000\n",
      "[DBG] [DBG] PRG: /home/marek/monitoring/dynamorio//build/bin64/drrun -root /home/marek/monitoring/dynamorio//build/ -opt_cleancall 2 -opt_speed -c /home/marek/monitoring/shamon/sources/drregex/libdrregex.so /primes2 prime '#([0-9]+): ([0-9]+)' ii -- python3 /home/marek/monitoring/shamon/experiments/primes/primes.py 2000\n",
      "[DBG] [DBG] PRG: ./monitor Left:drregex:/primes1 Right:drregex:/primes2\n",
      "(0, 0, 0, 131) (0, 0, 0, 131) 0\n",
      "[DBG] [DBG] PRG: /home/marek/monitoring/dynamorio//build/bin64/drrun -root /home/marek/monitoring/dynamorio//build/ -opt_cleancall 2 -opt_speed -c /home/marek/monitoring/shamon/sources/drregex/libdrregex.so /primes1 prime '#([0-9]+): ([0-9]+)' ii -- /home/marek/monitoring/shamon/experiments/primes/primes 2000\n",
      "[DBG] [DBG] PRG: /home/marek/monitoring/dynamorio//build/bin64/drrun -root /home/marek/monitoring/dynamorio//build/ -opt_cleancall 2 -opt_speed -c /home/marek/monitoring/shamon/sources/drregex/libdrregex.so /primes2 prime '#([0-9]+): ([0-9]+)' ii -- python3 /home/marek/monitoring/shamon/experiments/primes/primes.py 2000\n",
      "[DBG] [DBG] PRG: ./monitor Left:drregex:/primes1 Right:drregex:/primes2\n",
      "(0, 0, 0, 131) (0, 0, 0, 131) 0\n",
      "[DBG] [DBG] PRG: /home/marek/monitoring/dynamorio//build/bin64/drrun -root /home/marek/monitoring/dynamorio//build/ -opt_cleancall 2 -opt_speed -c /home/marek/monitoring/shamon/sources/drregex/libdrregex.so /primes1 prime '#([0-9]+): ([0-9]+)' ii -- /home/marek/monitoring/shamon/experiments/primes/primes 2000\n",
      "[DBG] [DBG] PRG: /home/marek/monitoring/dynamorio//build/bin64/drrun -root /home/marek/monitoring/dynamorio//build/ -opt_cleancall 2 -opt_speed -c /home/marek/monitoring/shamon/sources/drregex/libdrregex.so /primes2 prime '#([0-9]+): ([0-9]+)' ii -- python3 /home/marek/monitoring/shamon/experiments/primes/primes.py 2000\n",
      "[DBG] [DBG] PRG: ./monitor Left:drregex:/primes1 Right:drregex:/primes2\n",
      "(0, 0, 0, 131) (0, 0, 0, 131) 0\n",
      "[DBG] [DBG] PRG: /home/marek/monitoring/dynamorio//build/bin64/drrun -root /home/marek/monitoring/dynamorio//build/ -opt_cleancall 2 -opt_speed -c /home/marek/monitoring/shamon/sources/drregex/libdrregex.so /primes1 prime '#([0-9]+): ([0-9]+)' ii -- /home/marek/monitoring/shamon/experiments/primes/primes 2000\n",
      "[DBG] [DBG] PRG: /home/marek/monitoring/dynamorio//build/bin64/drrun -root /home/marek/monitoring/dynamorio//build/ -opt_cleancall 2 -opt_speed -c /home/marek/monitoring/shamon/sources/drregex/libdrregex.so /primes2 prime '#([0-9]+): ([0-9]+)' ii -- python3 /home/marek/monitoring/shamon/experiments/primes/primes.py 2000\n",
      "[DBG] [DBG] PRG: ./monitor Left:drregex:/primes1 Right:drregex:/primes2\n",
      "(0, 0, 0, 131) (0, 0, 0, 131) 0\n",
      "[DBG] [DBG] PRG: /home/marek/monitoring/dynamorio//build/bin64/drrun -root /home/marek/monitoring/dynamorio//build/ -opt_cleancall 2 -opt_speed -c /home/marek/monitoring/shamon/sources/drregex/libdrregex.so /primes1 prime '#([0-9]+): ([0-9]+)' ii -- /home/marek/monitoring/shamon/experiments/primes/primes 2000\n",
      "[DBG] [DBG] PRG: /home/marek/monitoring/dynamorio//build/bin64/drrun -root /home/marek/monitoring/dynamorio//build/ -opt_cleancall 2 -opt_speed -c /home/marek/monitoring/shamon/sources/drregex/libdrregex.so /primes2 prime '#([0-9]+): ([0-9]+)' ii -- python3 /home/marek/monitoring/shamon/experiments/primes/primes.py 2000\n",
      "[DBG] [DBG] PRG: ./monitor Left:drregex:/primes1 Right:drregex:/primes2\n",
      "(0, 0, 0, 131) (0, 0, 0, 131) 0\n",
      "[DBG] C program \u001b[0;32mC program \u001b[0m\n",
      "[DBG] Avg CPU time (10 measurements): 0.03678189999999999 seconds.\n",
      "\u001b[0;32mAvg CPU time (10 measurements): 0.03678189999999999 seconds.\n",
      "\u001b[0m\n",
      "[DBG] Python program \u001b[0;32mPython program \u001b[0m\n",
      "[DBG] Avg CPU time (10 measurements): 0.39579453000000003 seconds.\n",
      "\u001b[0;32mAvg CPU time (10 measurements): 0.39579453000000003 seconds.\n",
      "\u001b[0m\n",
      "[DBG] For 2000 incoming events, average of 10 measurements:\n",
      "\u001b[0;32mFor 2000 incoming events, average of 10 measurements:\n",
      "\u001b[0m\n",
      "[DBG] Left dropped: 0.0\n",
      "\u001b[0;32mLeft dropped: 0.0\n",
      "\u001b[0m\n",
      "[DBG] Right dropped: 0.0\n",
      "\u001b[0;32mRight dropped: 0.0\n",
      "\u001b[0m\n",
      "[DBG] Left skipped: 0.0\n",
      "\u001b[0;32mLeft skipped: 0.0\n",
      "\u001b[0m\n",
      "[DBG] Right skipped: 0.0\n",
      "\u001b[0;32mRight skipped: 0.0\n",
      "\u001b[0m\n",
      "[DBG] Left ignored: 0.0\n",
      "\u001b[0;32mLeft ignored: 0.0\n",
      "\u001b[0m\n",
      "[DBG] Right ignored: 0.0\n",
      "\u001b[0;32mRight ignored: 0.0\n",
      "\u001b[0m\n",
      "[DBG] Left processed: 131.0\n",
      "\u001b[0;32mLeft processed: 131.0\n",
      "\u001b[0m\n",
      "[DBG] Right processed: 131.0\n",
      "\u001b[0;32mRight processed: 131.0\n",
      "\u001b[0m\n",
      "[DBG] Detected errors: 0.0\n",
      "\u001b[0;32mDetected errors: 0.0\n",
      "\u001b[0m\n"
     ]
    },
    {
     "data": {
      "text/plain": [
       "((0, 0, 0, 1310), (0, 0, 0, 1310), 0)"
      ]
     },
     "execution_count": 20,
     "metadata": {},
     "output_type": "execute_result"
    }
   ],
   "source": [
    "log_debug(True)\n",
    "dm_drio_time_c = ParseTime()\n",
    "dm_drio_time_py = ParseTime()\n",
    "dm_drio_stats = ParseStats()\n",
    "measure(\"'Differential monitor C/Py for primes' DynamoRIO sources\",\n",
    "        [Command(*DRIO, \"-c\", f\"{SHAMONPATH}/sources/drregex/libdrregex.so\",\n",
    "                 \"/primes1\", \"prime\", \"#([0-9]+): ([0-9]+)\", \"ii\", \"--\",\n",
    "                 f\"{PRIMESPATH}/primes\", NUM).withparser(dm_drio_time_c),\n",
    "         Command(*DRIO, \"-c\", f\"{SHAMONPATH}/sources/drregex/libdrregex.so\",\n",
    "                 \"/primes2\", \"prime\", \"#([0-9]+): ([0-9]+)\", \"ii\", \"--\",\n",
    "                 \"python3\", f\"{PRIMESPATH}/primes.py\", NUM).withparser(dm_drio_time_py)],\n",
    "        [Command(\"./monitor\", \"Left:drregex:/primes1\", \"Right:drregex:/primes2\").withparser(dm_drio_stats)])\n",
    "dm_drio_time_c.report(msg=\"C program\")\n",
    "dm_drio_time_py.report(msg=\"Python program\")\n",
    "dm_drio_stats.report()"
   ]
  },
  {
   "cell_type": "code",
   "execution_count": 21,
   "id": "6604575f-0d0d-4d4a-bc8a-99bacbfc4ea8",
   "metadata": {},
   "outputs": [
    {
     "name": "stdout",
     "output_type": "stream",
     "text": [
      "[DBG] ------- 'Differential monitor C/C for primes' piping ------\n",
      "\u001b[0;34m------- 'Differential monitor C/C for primes' piping ------\u001b[0m\n",
      "[DBG] [DBG] PRG: /home/marek/monitoring/shamon/experiments/primes/primes 2000 | /home/marek/monitoring/shamon/sources/regex /primes1 prime '#([0-9]+): ([0-9]+)' ii\n",
      "[DBG] [DBG] PRG: /home/marek/monitoring/shamon/experiments/primes/primes 2000\n",
      "[DBG] [DBG] PRG: /home/marek/monitoring/shamon/sources/regex /primes1 prime '#([0-9]+): ([0-9]+)' ii\n",
      "[DBG] [DBG] PRG: /home/marek/monitoring/shamon/experiments/primes/primes 2000 | /home/marek/monitoring/shamon/sources/regex /primes2 prime '#([0-9]+): ([0-9]+)' ii\n",
      "[DBG] [DBG] PRG: /home/marek/monitoring/shamon/experiments/primes/primes 2000\n",
      "[DBG] [DBG] PRG: /home/marek/monitoring/shamon/sources/regex /primes2 prime '#([0-9]+): ([0-9]+)' ii\n",
      "[DBG] [DBG] PRG: ./monitor Left:drregex:/primes1 Right:drregex:/primes2\n",
      "(870, 0, 0, 1130) (0, 0, 870, 1130) 0\n",
      "[DBG] [DBG] PRG: /home/marek/monitoring/shamon/experiments/primes/primes 2000 | /home/marek/monitoring/shamon/sources/regex /primes1 prime '#([0-9]+): ([0-9]+)' ii\n",
      "[DBG] [DBG] PRG: /home/marek/monitoring/shamon/experiments/primes/primes 2000\n",
      "[DBG] [DBG] PRG: /home/marek/monitoring/shamon/sources/regex /primes1 prime '#([0-9]+): ([0-9]+)' ii\n",
      "[DBG] [DBG] PRG: /home/marek/monitoring/shamon/experiments/primes/primes 2000 | /home/marek/monitoring/shamon/sources/regex /primes2 prime '#([0-9]+): ([0-9]+)' ii\n",
      "[DBG] [DBG] PRG: /home/marek/monitoring/shamon/experiments/primes/primes 2000\n",
      "[DBG] [DBG] PRG: /home/marek/monitoring/shamon/sources/regex /primes2 prime '#([0-9]+): ([0-9]+)' ii\n",
      "[DBG] [DBG] PRG: ./monitor Left:drregex:/primes1 Right:drregex:/primes2\n",
      "(0, 0, 0, 2000) (0, 0, 0, 2000) 0\n",
      "[DBG] [DBG] PRG: /home/marek/monitoring/shamon/experiments/primes/primes 2000 | /home/marek/monitoring/shamon/sources/regex /primes1 prime '#([0-9]+): ([0-9]+)' ii\n",
      "[DBG] [DBG] PRG: /home/marek/monitoring/shamon/experiments/primes/primes 2000\n",
      "[DBG] [DBG] PRG: /home/marek/monitoring/shamon/sources/regex /primes1 prime '#([0-9]+): ([0-9]+)' ii\n",
      "[DBG] [DBG] PRG: /home/marek/monitoring/shamon/experiments/primes/primes 2000 | /home/marek/monitoring/shamon/sources/regex /primes2 prime '#([0-9]+): ([0-9]+)' ii\n",
      "[DBG] [DBG] PRG: /home/marek/monitoring/shamon/experiments/primes/primes 2000\n",
      "[DBG] [DBG] PRG: /home/marek/monitoring/shamon/sources/regex /primes2 prime '#([0-9]+): ([0-9]+)' ii\n",
      "[DBG] [DBG] PRG: ./monitor Left:drregex:/primes1 Right:drregex:/primes2\n",
      "(11, 0, 0, 1989) (0, 0, 11, 1989) 0\n",
      "[DBG] [DBG] PRG: /home/marek/monitoring/shamon/experiments/primes/primes 2000 | /home/marek/monitoring/shamon/sources/regex /primes1 prime '#([0-9]+): ([0-9]+)' ii\n",
      "[DBG] [DBG] PRG: /home/marek/monitoring/shamon/experiments/primes/primes 2000\n",
      "[DBG] [DBG] PRG: /home/marek/monitoring/shamon/sources/regex /primes1 prime '#([0-9]+): ([0-9]+)' ii\n",
      "[DBG] [DBG] PRG: /home/marek/monitoring/shamon/experiments/primes/primes 2000 | /home/marek/monitoring/shamon/sources/regex /primes2 prime '#([0-9]+): ([0-9]+)' ii\n",
      "[DBG] [DBG] PRG: /home/marek/monitoring/shamon/experiments/primes/primes 2000\n",
      "[DBG] [DBG] PRG: /home/marek/monitoring/shamon/sources/regex /primes2 prime '#([0-9]+): ([0-9]+)' ii\n",
      "[DBG] [DBG] PRG: ./monitor Left:drregex:/primes1 Right:drregex:/primes2\n",
      "(713, 0, 0, 1237) (0, 0, 713, 1237) 0\n",
      "[DBG] [DBG] PRG: /home/marek/monitoring/shamon/experiments/primes/primes 2000 | /home/marek/monitoring/shamon/sources/regex /primes1 prime '#([0-9]+): ([0-9]+)' ii\n",
      "[DBG] [DBG] PRG: /home/marek/monitoring/shamon/experiments/primes/primes 2000\n",
      "[DBG] [DBG] PRG: /home/marek/monitoring/shamon/sources/regex /primes1 prime '#([0-9]+): ([0-9]+)' ii\n",
      "[DBG] [DBG] PRG: /home/marek/monitoring/shamon/experiments/primes/primes 2000 | /home/marek/monitoring/shamon/sources/regex /primes2 prime '#([0-9]+): ([0-9]+)' ii\n",
      "[DBG] [DBG] PRG: /home/marek/monitoring/shamon/experiments/primes/primes 2000\n",
      "[DBG] [DBG] PRG: /home/marek/monitoring/shamon/sources/regex /primes2 prime '#([0-9]+): ([0-9]+)' ii\n",
      "[DBG] [DBG] PRG: ./monitor Left:drregex:/primes1 Right:drregex:/primes2\n",
      "(0, 0, 485, 1515) (485, 0, 0, 1515) 0\n",
      "[DBG] [DBG] PRG: /home/marek/monitoring/shamon/experiments/primes/primes 2000 | /home/marek/monitoring/shamon/sources/regex /primes1 prime '#([0-9]+): ([0-9]+)' ii\n",
      "[DBG] [DBG] PRG: /home/marek/monitoring/shamon/experiments/primes/primes 2000\n",
      "[DBG] [DBG] PRG: /home/marek/monitoring/shamon/sources/regex /primes1 prime '#([0-9]+): ([0-9]+)' ii\n",
      "[DBG] [DBG] PRG: /home/marek/monitoring/shamon/experiments/primes/primes 2000 | /home/marek/monitoring/shamon/sources/regex /primes2 prime '#([0-9]+): ([0-9]+)' ii\n",
      "[DBG] [DBG] PRG: /home/marek/monitoring/shamon/experiments/primes/primes 2000\n",
      "[DBG] [DBG] PRG: /home/marek/monitoring/shamon/sources/regex /primes2 prime '#([0-9]+): ([0-9]+)' ii\n",
      "[DBG] [DBG] PRG: ./monitor Left:drregex:/primes1 Right:drregex:/primes2\n",
      "(572, 0, 0, 1415) (0, 0, 572, 1415) 0\n",
      "[DBG] [DBG] PRG: /home/marek/monitoring/shamon/experiments/primes/primes 2000 | /home/marek/monitoring/shamon/sources/regex /primes1 prime '#([0-9]+): ([0-9]+)' ii\n",
      "[DBG] [DBG] PRG: /home/marek/monitoring/shamon/experiments/primes/primes 2000\n",
      "[DBG] [DBG] PRG: /home/marek/monitoring/shamon/sources/regex /primes1 prime '#([0-9]+): ([0-9]+)' ii\n",
      "[DBG] [DBG] PRG: /home/marek/monitoring/shamon/experiments/primes/primes 2000 | /home/marek/monitoring/shamon/sources/regex /primes2 prime '#([0-9]+): ([0-9]+)' ii\n",
      "[DBG] [DBG] PRG: /home/marek/monitoring/shamon/experiments/primes/primes 2000\n",
      "[DBG] [DBG] PRG: /home/marek/monitoring/shamon/sources/regex /primes2 prime '#([0-9]+): ([0-9]+)' ii\n",
      "[DBG] [DBG] PRG: ./monitor Left:drregex:/primes1 Right:drregex:/primes2\n",
      "(557, 0, 0, 1443) (0, 0, 557, 1443) 0\n",
      "[DBG] [DBG] PRG: /home/marek/monitoring/shamon/experiments/primes/primes 2000 | /home/marek/monitoring/shamon/sources/regex /primes1 prime '#([0-9]+): ([0-9]+)' ii\n",
      "[DBG] [DBG] PRG: /home/marek/monitoring/shamon/experiments/primes/primes 2000\n",
      "[DBG] [DBG] PRG: /home/marek/monitoring/shamon/sources/regex /primes1 prime '#([0-9]+): ([0-9]+)' ii\n",
      "[DBG] [DBG] PRG: /home/marek/monitoring/shamon/experiments/primes/primes 2000 | /home/marek/monitoring/shamon/sources/regex /primes2 prime '#([0-9]+): ([0-9]+)' ii\n",
      "[DBG] [DBG] PRG: /home/marek/monitoring/shamon/experiments/primes/primes 2000\n",
      "[DBG] [DBG] PRG: /home/marek/monitoring/shamon/sources/regex /primes2 prime '#([0-9]+): ([0-9]+)' ii\n",
      "[DBG] [DBG] PRG: ./monitor Left:drregex:/primes1 Right:drregex:/primes2\n",
      "(0, 0, 545, 1455) (545, 0, 0, 1455) 0\n",
      "[DBG] [DBG] PRG: /home/marek/monitoring/shamon/experiments/primes/primes 2000 | /home/marek/monitoring/shamon/sources/regex /primes1 prime '#([0-9]+): ([0-9]+)' ii\n",
      "[DBG] [DBG] PRG: /home/marek/monitoring/shamon/experiments/primes/primes 2000\n",
      "[DBG] [DBG] PRG: /home/marek/monitoring/shamon/sources/regex /primes1 prime '#([0-9]+): ([0-9]+)' ii\n",
      "[DBG] [DBG] PRG: /home/marek/monitoring/shamon/experiments/primes/primes 2000 | /home/marek/monitoring/shamon/sources/regex /primes2 prime '#([0-9]+): ([0-9]+)' ii\n",
      "[DBG] [DBG] PRG: /home/marek/monitoring/shamon/experiments/primes/primes 2000\n",
      "[DBG] [DBG] PRG: /home/marek/monitoring/shamon/sources/regex /primes2 prime '#([0-9]+): ([0-9]+)' ii\n",
      "[DBG] [DBG] PRG: ./monitor Left:drregex:/primes1 Right:drregex:/primes2\n",
      "(0, 0, 0, 2000) (0, 0, 0, 2000) 0\n",
      "[DBG] [DBG] PRG: /home/marek/monitoring/shamon/experiments/primes/primes 2000 | /home/marek/monitoring/shamon/sources/regex /primes1 prime '#([0-9]+): ([0-9]+)' ii\n",
      "[DBG] [DBG] PRG: /home/marek/monitoring/shamon/experiments/primes/primes 2000\n",
      "[DBG] [DBG] PRG: /home/marek/monitoring/shamon/sources/regex /primes1 prime '#([0-9]+): ([0-9]+)' ii\n",
      "[DBG] [DBG] PRG: /home/marek/monitoring/shamon/experiments/primes/primes 2000 | /home/marek/monitoring/shamon/sources/regex /primes2 prime '#([0-9]+): ([0-9]+)' ii\n",
      "[DBG] [DBG] PRG: /home/marek/monitoring/shamon/experiments/primes/primes 2000\n",
      "[DBG] [DBG] PRG: /home/marek/monitoring/shamon/sources/regex /primes2 prime '#([0-9]+): ([0-9]+)' ii\n",
      "[DBG] [DBG] PRG: ./monitor Left:drregex:/primes1 Right:drregex:/primes2\n",
      "(0, 0, 0, 2000) (0, 0, 0, 2000) 0\n",
      "[DBG] C program (1) \u001b[0;32mC program (1) \u001b[0m\n",
      "[DBG] Avg CPU time (10 measurements): 0.11399019999999996 seconds.\n",
      "\u001b[0;32mAvg CPU time (10 measurements): 0.11399019999999996 seconds.\n",
      "\u001b[0m\n",
      "[DBG] C program (2) \u001b[0;32mC program (2) \u001b[0m\n",
      "[DBG] Avg CPU time (10 measurements): 0.11387729999999993 seconds.\n",
      "\u001b[0;32mAvg CPU time (10 measurements): 0.11387729999999993 seconds.\n",
      "\u001b[0m\n",
      "[DBG] For 2000 incoming events, average of 10 measurements:\n",
      "\u001b[0;32mFor 2000 incoming events, average of 10 measurements:\n",
      "\u001b[0m\n",
      "[DBG] Left dropped: 272.3\n",
      "\u001b[0;32mLeft dropped: 272.3\n",
      "\u001b[0m\n",
      "[DBG] Right dropped: 103.0\n",
      "\u001b[0;32mRight dropped: 103.0\n",
      "\u001b[0m\n",
      "[DBG] Left skipped: 0.0\n",
      "\u001b[0;32mLeft skipped: 0.0\n",
      "\u001b[0m\n",
      "[DBG] Right skipped: 0.0\n",
      "\u001b[0;32mRight skipped: 0.0\n",
      "\u001b[0m\n",
      "[DBG] Left ignored: 103.0\n",
      "\u001b[0;32mLeft ignored: 103.0\n",
      "\u001b[0m\n",
      "[DBG] Right ignored: 272.3\n",
      "\u001b[0;32mRight ignored: 272.3\n",
      "\u001b[0m\n",
      "[DBG] Left processed: 1618.4\n",
      "\u001b[0;32mLeft processed: 1618.4\n",
      "\u001b[0m\n",
      "[DBG] Right processed: 1618.4\n",
      "\u001b[0;32mRight processed: 1618.4\n",
      "\u001b[0m\n",
      "[DBG] Detected errors: 0.0\n",
      "\u001b[0;32mDetected errors: 0.0\n",
      "\u001b[0m\n"
     ]
    },
    {
     "data": {
      "text/plain": [
       "((2723, 0, 1030, 16184), (1030, 0, 2723, 16184), 0)"
      ]
     },
     "execution_count": 21,
     "metadata": {},
     "output_type": "execute_result"
    }
   ],
   "source": [
    "dm_pipes_time_c1 = ParseTime()\n",
    "dm_pipes_time_c2 = ParseTime()\n",
    "dm_pipes_stats2 = ParseStats()\n",
    "measure(\"'Differential monitor C/C for primes' piping\",\n",
    "        [PipedCommands(Command(f\"{PRIMESPATH}/primes\", NUM).withparser(dm_pipes_time_c1),\n",
    "                       Command(f\"{SHAMONPATH}/sources/regex\", \"/primes1\", \"prime\", \"#([0-9]+): ([0-9]+)\", \"ii\")),\n",
    "         PipedCommands(Command(f\"{PRIMESPATH}/primes\", NUM).withparser(dm_pipes_time_c2),\n",
    "                       Command(f\"{SHAMONPATH}/sources/regex\", \"/primes2\", \"prime\", \"#([0-9]+): ([0-9]+)\", \"ii\"))],\n",
    "        [Command(\"./monitor\", \"Left:drregex:/primes1\", \"Right:drregex:/primes2\").withparser(dm_pipes_stats2)])\n",
    "dm_pipes_time_c1.report(msg=\"C program (1)\")\n",
    "dm_pipes_time_c2.report(msg=\"C program (2)\")\n",
    "dm_pipes_stats2.report()"
   ]
  },
  {
   "cell_type": "code",
   "execution_count": 22,
   "id": "b23fdf80-9e31-4e4c-8bee-3dfc2e9bcf5d",
   "metadata": {},
   "outputs": [
    {
     "name": "stdout",
     "output_type": "stream",
     "text": [
      "[DBG] ------- 'Differential monitor C/C for primes' DynamoRIO sources ------\n",
      "\u001b[0;34m------- 'Differential monitor C/C for primes' DynamoRIO sources ------\u001b[0m\n",
      "[DBG] [DBG] PRG: /home/marek/monitoring/dynamorio//build/bin64/drrun -root /home/marek/monitoring/dynamorio//build/ -opt_cleancall 2 -opt_speed -c /home/marek/monitoring/shamon/sources/drregex/libdrregex.so /primes1 prime '#([0-9]+): ([0-9]+)' ii -- /home/marek/monitoring/shamon/experiments/primes/primes 2000\n",
      "[DBG] [DBG] PRG: /home/marek/monitoring/dynamorio//build/bin64/drrun -root /home/marek/monitoring/dynamorio//build/ -opt_cleancall 2 -opt_speed -c /home/marek/monitoring/shamon/sources/drregex/libdrregex.so /primes2 prime '#([0-9]+): ([0-9]+)' ii -- /home/marek/monitoring/shamon/experiments/primes/primes 2000\n",
      "[DBG] [DBG] PRG: ./monitor Left:drregex:/primes1 Right:drregex:/primes2\n"
     ]
    },
    {
     "ename": "TypeError",
     "evalue": "can only concatenate str (not \"bytes\") to str",
     "output_type": "error",
     "traceback": [
      "\u001b[0;31m---------------------------------------------------------------------------\u001b[0m",
      "\u001b[0;31mTypeError\u001b[0m                                 Traceback (most recent call last)",
      "Input \u001b[0;32mIn [22]\u001b[0m, in \u001b[0;36m<cell line: 4>\u001b[0;34m()\u001b[0m\n\u001b[1;32m      2\u001b[0m dm_drio_time_c2 \u001b[38;5;241m=\u001b[39m ParseTime()\n\u001b[1;32m      3\u001b[0m dm_drio_stats2 \u001b[38;5;241m=\u001b[39m ParseStats()\n\u001b[0;32m----> 4\u001b[0m \u001b[43mmeasure\u001b[49m\u001b[43m(\u001b[49m\u001b[38;5;124;43m\"\u001b[39;49m\u001b[38;5;124;43m'\u001b[39;49m\u001b[38;5;124;43mDifferential monitor C/C for primes\u001b[39;49m\u001b[38;5;124;43m'\u001b[39;49m\u001b[38;5;124;43m DynamoRIO sources\u001b[39;49m\u001b[38;5;124;43m\"\u001b[39;49m\u001b[43m,\u001b[49m\n\u001b[1;32m      5\u001b[0m \u001b[43m        \u001b[49m\u001b[43m[\u001b[49m\u001b[43mCommand\u001b[49m\u001b[43m(\u001b[49m\u001b[38;5;241;43m*\u001b[39;49m\u001b[43mDRIO\u001b[49m\u001b[43m,\u001b[49m\u001b[43m \u001b[49m\u001b[38;5;124;43m\"\u001b[39;49m\u001b[38;5;124;43m-c\u001b[39;49m\u001b[38;5;124;43m\"\u001b[39;49m\u001b[43m,\u001b[49m\u001b[43m \u001b[49m\u001b[38;5;124;43mf\u001b[39;49m\u001b[38;5;124;43m\"\u001b[39;49m\u001b[38;5;132;43;01m{\u001b[39;49;00m\u001b[43mSHAMONPATH\u001b[49m\u001b[38;5;132;43;01m}\u001b[39;49;00m\u001b[38;5;124;43m/sources/drregex/libdrregex.so\u001b[39;49m\u001b[38;5;124;43m\"\u001b[39;49m\u001b[43m,\u001b[49m\n\u001b[1;32m      6\u001b[0m \u001b[43m                 \u001b[49m\u001b[38;5;124;43m\"\u001b[39;49m\u001b[38;5;124;43m/primes1\u001b[39;49m\u001b[38;5;124;43m\"\u001b[39;49m\u001b[43m,\u001b[49m\u001b[43m \u001b[49m\u001b[38;5;124;43m\"\u001b[39;49m\u001b[38;5;124;43mprime\u001b[39;49m\u001b[38;5;124;43m\"\u001b[39;49m\u001b[43m,\u001b[49m\u001b[43m \u001b[49m\u001b[38;5;124;43m\"\u001b[39;49m\u001b[38;5;124;43m#([0-9]+): ([0-9]+)\u001b[39;49m\u001b[38;5;124;43m\"\u001b[39;49m\u001b[43m,\u001b[49m\u001b[43m \u001b[49m\u001b[38;5;124;43m\"\u001b[39;49m\u001b[38;5;124;43mii\u001b[39;49m\u001b[38;5;124;43m\"\u001b[39;49m\u001b[43m,\u001b[49m\u001b[43m \u001b[49m\u001b[38;5;124;43m\"\u001b[39;49m\u001b[38;5;124;43m--\u001b[39;49m\u001b[38;5;124;43m\"\u001b[39;49m\u001b[43m,\u001b[49m\n\u001b[1;32m      7\u001b[0m \u001b[43m                 \u001b[49m\u001b[38;5;124;43mf\u001b[39;49m\u001b[38;5;124;43m\"\u001b[39;49m\u001b[38;5;132;43;01m{\u001b[39;49;00m\u001b[43mPRIMESPATH\u001b[49m\u001b[38;5;132;43;01m}\u001b[39;49;00m\u001b[38;5;124;43m/primes\u001b[39;49m\u001b[38;5;124;43m\"\u001b[39;49m\u001b[43m,\u001b[49m\u001b[43m \u001b[49m\u001b[43mNUM\u001b[49m\u001b[43m)\u001b[49m\u001b[38;5;241;43m.\u001b[39;49m\u001b[43mwithparser\u001b[49m\u001b[43m(\u001b[49m\u001b[43mdm_drio_time_c1\u001b[49m\u001b[43m)\u001b[49m\u001b[43m,\u001b[49m\n\u001b[1;32m      8\u001b[0m \u001b[43m         \u001b[49m\u001b[43mCommand\u001b[49m\u001b[43m(\u001b[49m\u001b[38;5;241;43m*\u001b[39;49m\u001b[43mDRIO\u001b[49m\u001b[43m,\u001b[49m\u001b[43m \u001b[49m\u001b[38;5;124;43m\"\u001b[39;49m\u001b[38;5;124;43m-c\u001b[39;49m\u001b[38;5;124;43m\"\u001b[39;49m\u001b[43m,\u001b[49m\u001b[43m \u001b[49m\u001b[38;5;124;43mf\u001b[39;49m\u001b[38;5;124;43m\"\u001b[39;49m\u001b[38;5;132;43;01m{\u001b[39;49;00m\u001b[43mSHAMONPATH\u001b[49m\u001b[38;5;132;43;01m}\u001b[39;49;00m\u001b[38;5;124;43m/sources/drregex/libdrregex.so\u001b[39;49m\u001b[38;5;124;43m\"\u001b[39;49m\u001b[43m,\u001b[49m\n\u001b[1;32m      9\u001b[0m \u001b[43m                 \u001b[49m\u001b[38;5;124;43m\"\u001b[39;49m\u001b[38;5;124;43m/primes2\u001b[39;49m\u001b[38;5;124;43m\"\u001b[39;49m\u001b[43m,\u001b[49m\u001b[43m \u001b[49m\u001b[38;5;124;43m\"\u001b[39;49m\u001b[38;5;124;43mprime\u001b[39;49m\u001b[38;5;124;43m\"\u001b[39;49m\u001b[43m,\u001b[49m\u001b[43m \u001b[49m\u001b[38;5;124;43m\"\u001b[39;49m\u001b[38;5;124;43m#([0-9]+): ([0-9]+)\u001b[39;49m\u001b[38;5;124;43m\"\u001b[39;49m\u001b[43m,\u001b[49m\u001b[43m \u001b[49m\u001b[38;5;124;43m\"\u001b[39;49m\u001b[38;5;124;43mii\u001b[39;49m\u001b[38;5;124;43m\"\u001b[39;49m\u001b[43m,\u001b[49m\u001b[43m \u001b[49m\u001b[38;5;124;43m\"\u001b[39;49m\u001b[38;5;124;43m--\u001b[39;49m\u001b[38;5;124;43m\"\u001b[39;49m\u001b[43m,\u001b[49m\n\u001b[1;32m     10\u001b[0m \u001b[43m                 \u001b[49m\u001b[38;5;124;43mf\u001b[39;49m\u001b[38;5;124;43m\"\u001b[39;49m\u001b[38;5;132;43;01m{\u001b[39;49;00m\u001b[43mPRIMESPATH\u001b[49m\u001b[38;5;132;43;01m}\u001b[39;49;00m\u001b[38;5;124;43m/primes\u001b[39;49m\u001b[38;5;124;43m\"\u001b[39;49m\u001b[43m,\u001b[49m\u001b[43m \u001b[49m\u001b[43mNUM\u001b[49m\u001b[43m)\u001b[49m\u001b[38;5;241;43m.\u001b[39;49m\u001b[43mwithparser\u001b[49m\u001b[43m(\u001b[49m\u001b[43mdm_drio_time_c2\u001b[49m\u001b[43m)\u001b[49m\u001b[43m]\u001b[49m\u001b[43m,\u001b[49m\n\u001b[1;32m     11\u001b[0m \u001b[43m        \u001b[49m\u001b[43m[\u001b[49m\u001b[43mCommand\u001b[49m\u001b[43m(\u001b[49m\u001b[38;5;124;43m\"\u001b[39;49m\u001b[38;5;124;43m./monitor\u001b[39;49m\u001b[38;5;124;43m\"\u001b[39;49m\u001b[43m,\u001b[49m\u001b[43m \u001b[49m\u001b[38;5;124;43m\"\u001b[39;49m\u001b[38;5;124;43mLeft:drregex:/primes1\u001b[39;49m\u001b[38;5;124;43m\"\u001b[39;49m\u001b[43m,\u001b[49m\u001b[43m \u001b[49m\u001b[38;5;124;43m\"\u001b[39;49m\u001b[38;5;124;43mRight:drregex:/primes2\u001b[39;49m\u001b[38;5;124;43m\"\u001b[39;49m\u001b[43m)\u001b[49m\u001b[38;5;241;43m.\u001b[39;49m\u001b[43mwithparser\u001b[49m\u001b[43m(\u001b[49m\u001b[43mdm_drio_stats2\u001b[49m\u001b[43m)\u001b[49m\u001b[43m]\u001b[49m\u001b[43m)\u001b[49m\n\u001b[1;32m     12\u001b[0m dm_drio_time_c1\u001b[38;5;241m.\u001b[39mreport(msg\u001b[38;5;241m=\u001b[39m\u001b[38;5;124m\"\u001b[39m\u001b[38;5;124mC program\u001b[39m\u001b[38;5;124m\"\u001b[39m)\n\u001b[1;32m     13\u001b[0m dm_drio_time_c2\u001b[38;5;241m.\u001b[39mreport(msg\u001b[38;5;241m=\u001b[39m\u001b[38;5;124m\"\u001b[39m\u001b[38;5;124mPython program\u001b[39m\u001b[38;5;124m\"\u001b[39m)\n",
      "File \u001b[0;32m~/monitoring/shamon/experiments/primes/measure.py:143\u001b[0m, in \u001b[0;36mmeasure\u001b[0;34m(name, cmds, moncmds)\u001b[0m\n\u001b[1;32m    140\u001b[0m \u001b[38;5;28;01mdef\u001b[39;00m \u001b[38;5;21mmeasure\u001b[39m(name, cmds, moncmds\u001b[38;5;241m=\u001b[39m()):\n\u001b[1;32m    141\u001b[0m     log(\u001b[38;5;124mf\u001b[39m\u001b[38;5;124m\"\u001b[39m\u001b[38;5;124m------- \u001b[39m\u001b[38;5;132;01m{\u001b[39;00mname\u001b[38;5;132;01m}\u001b[39;00m\u001b[38;5;124m ------\u001b[39m\u001b[38;5;124m\"\u001b[39m,\n\u001b[1;32m    142\u001b[0m         \u001b[38;5;124mf\u001b[39m\u001b[38;5;124m\"\u001b[39m\u001b[38;5;130;01m\\033\u001b[39;00m\u001b[38;5;124m[0;34m------- \u001b[39m\u001b[38;5;132;01m{\u001b[39;00mname\u001b[38;5;132;01m}\u001b[39;00m\u001b[38;5;124m ------\u001b[39m\u001b[38;5;130;01m\\033\u001b[39;00m\u001b[38;5;124m[0m\u001b[39m\u001b[38;5;124m\"\u001b[39m)\n\u001b[0;32m--> 143\u001b[0m     \u001b[43m_measure\u001b[49m\u001b[43m(\u001b[49m\u001b[43mcmds\u001b[49m\u001b[43m,\u001b[49m\u001b[43m \u001b[49m\u001b[43mmoncmds\u001b[49m\u001b[43m)\u001b[49m\n",
      "File \u001b[0;32m~/monitoring/shamon/experiments/primes/measure.py:127\u001b[0m, in \u001b[0;36m_measure\u001b[0;34m(cmds, moncmds, pipe)\u001b[0m\n\u001b[1;32m    125\u001b[0m \u001b[38;5;66;03m# -- PROCESS OUTPUTS OF MONITORS --\u001b[39;00m\n\u001b[1;32m    126\u001b[0m \u001b[38;5;28;01mfor\u001b[39;00m mon \u001b[38;5;129;01min\u001b[39;00m moncmds:\n\u001b[0;32m--> 127\u001b[0m     ret \u001b[38;5;241m=\u001b[39m \u001b[43mmon\u001b[49m\u001b[38;5;241;43m.\u001b[39;49m\u001b[43mcommunicate\u001b[49m\u001b[43m(\u001b[49m\u001b[43m)\u001b[49m\n\u001b[1;32m    128\u001b[0m     \u001b[38;5;28;01mif\u001b[39;00m ret \u001b[38;5;241m!=\u001b[39m \u001b[38;5;241m0\u001b[39m:\n\u001b[1;32m    129\u001b[0m         log(\u001b[38;5;124mf\u001b[39m\u001b[38;5;124m\"\u001b[39m\u001b[38;5;124mMonitor \u001b[39m\u001b[38;5;132;01m{\u001b[39;00mmon\u001b[38;5;241m.\u001b[39mcmd\u001b[38;5;132;01m}\u001b[39;00m\u001b[38;5;124m had errors\u001b[39m\u001b[38;5;124m\"\u001b[39m,\n\u001b[1;32m    130\u001b[0m             \u001b[38;5;124mf\u001b[39m\u001b[38;5;124m\"\u001b[39m\u001b[38;5;130;01m\\033\u001b[39;00m\u001b[38;5;124m[0;31mMonitor \u001b[39m\u001b[38;5;132;01m{\u001b[39;00m\u001b[38;5;124m'\u001b[39m\u001b[38;5;124m \u001b[39m\u001b[38;5;124m'\u001b[39m\u001b[38;5;241m.\u001b[39mjoin(mon\u001b[38;5;241m.\u001b[39mcmd)\u001b[38;5;132;01m}\u001b[39;00m\u001b[38;5;124m had errors\u001b[39m\u001b[38;5;130;01m\\033\u001b[39;00m\u001b[38;5;124m[0m\u001b[39m\u001b[38;5;124m\"\u001b[39m)\n",
      "File \u001b[0;32m~/monitoring/shamon/experiments/primes/measure.py:79\u001b[0m, in \u001b[0;36mCommand.communicate\u001b[0;34m(self)\u001b[0m\n\u001b[1;32m     77\u001b[0m out, err \u001b[38;5;241m=\u001b[39m \u001b[38;5;28mself\u001b[39m\u001b[38;5;241m.\u001b[39mproc\u001b[38;5;241m.\u001b[39mcommunicate()\n\u001b[1;32m     78\u001b[0m \u001b[38;5;28;01mif\u001b[39;00m \u001b[38;5;28mself\u001b[39m\u001b[38;5;241m.\u001b[39mparser:\n\u001b[0;32m---> 79\u001b[0m     \u001b[38;5;28;43mself\u001b[39;49m\u001b[38;5;241;43m.\u001b[39;49m\u001b[43mparser\u001b[49m\u001b[38;5;241;43m.\u001b[39;49m\u001b[43mparse\u001b[49m\u001b[43m(\u001b[49m\u001b[43mout\u001b[49m\u001b[43m,\u001b[49m\u001b[43m \u001b[49m\u001b[43merr\u001b[49m\u001b[43m)\u001b[49m\n\u001b[1;32m     80\u001b[0m \u001b[38;5;28mself\u001b[39m\u001b[38;5;241m.\u001b[39mretval \u001b[38;5;241m=\u001b[39m \u001b[38;5;28mself\u001b[39m\u001b[38;5;241m.\u001b[39mproc\u001b[38;5;241m.\u001b[39mwait()\n\u001b[1;32m     81\u001b[0m \u001b[38;5;28;01mreturn\u001b[39;00m \u001b[38;5;28mself\u001b[39m\u001b[38;5;241m.\u001b[39mretval\n",
      "Input \u001b[0;32mIn [9]\u001b[0m, in \u001b[0;36mParseStats.parse\u001b[0;34m(self, out, err)\u001b[0m\n\u001b[1;32m     21\u001b[0m pl, pr \u001b[38;5;241m=\u001b[39m \u001b[38;5;28mint\u001b[39m(parts[\u001b[38;5;241m20\u001b[39m]), \u001b[38;5;28mint\u001b[39m(parts[\u001b[38;5;241m23\u001b[39m])\n\u001b[1;32m     22\u001b[0m \u001b[38;5;28;01mif\u001b[39;00m dl \u001b[38;5;241m+\u001b[39m sl \u001b[38;5;241m+\u001b[39m il \u001b[38;5;241m+\u001b[39m pl \u001b[38;5;241m==\u001b[39m \u001b[38;5;241m0\u001b[39m \u001b[38;5;129;01mor\u001b[39;00m dl \u001b[38;5;241m+\u001b[39m sl \u001b[38;5;241m+\u001b[39m il \u001b[38;5;241m+\u001b[39m pl \u001b[38;5;241m!=\u001b[39m dr \u001b[38;5;241m+\u001b[39m sr \u001b[38;5;241m+\u001b[39m ir \u001b[38;5;241m+\u001b[39m pr:\n\u001b[0;32m---> 23\u001b[0m     \u001b[43mlog\u001b[49m\u001b[43m(\u001b[49m\u001b[43mout\u001b[49m\u001b[43m)\u001b[49m\n\u001b[1;32m     24\u001b[0m     lprint(\u001b[38;5;124mf\u001b[39m\u001b[38;5;124m\"\u001b[39m\u001b[38;5;124mleft: \u001b[39m\u001b[38;5;132;01m{\u001b[39;00m(dl, sl, il, pl)\u001b[38;5;132;01m}\u001b[39;00m\u001b[38;5;124m, right: \u001b[39m\u001b[38;5;132;01m{\u001b[39;00m(dr, sr, ir, pr)\u001b[38;5;132;01m}\u001b[39;00m\u001b[38;5;124m, errs: \u001b[39m\u001b[38;5;132;01m{\u001b[39;00merrs\u001b[38;5;132;01m}\u001b[39;00m\u001b[38;5;124m\"\u001b[39m)\n\u001b[1;32m     25\u001b[0m     lprint(\u001b[38;5;124m\"\u001b[39m\u001b[38;5;124mDid not find right values\u001b[39m\u001b[38;5;124m\"\u001b[39m, color\u001b[38;5;241m=\u001b[39mRED)\n",
      "File \u001b[0;32m~/monitoring/shamon/experiments/primes/measure.py:40\u001b[0m, in \u001b[0;36mlog\u001b[0;34m(msg, outmsg, end, color)\u001b[0m\n\u001b[1;32m     38\u001b[0m \u001b[38;5;28mprint\u001b[39m(msg, file\u001b[38;5;241m=\u001b[39m_logf, end\u001b[38;5;241m=\u001b[39mend)\n\u001b[1;32m     39\u001b[0m \u001b[38;5;28;01mif\u001b[39;00m _debug:\n\u001b[0;32m---> 40\u001b[0m     \u001b[38;5;28mprint\u001b[39m(\u001b[38;5;124;43m\"\u001b[39;49m\u001b[38;5;124;43m[DBG] \u001b[39;49m\u001b[38;5;124;43m\"\u001b[39;49m\u001b[43m \u001b[49m\u001b[38;5;241;43m+\u001b[39;49m\u001b[43m \u001b[49m\u001b[43mmsg\u001b[49m, end\u001b[38;5;241m=\u001b[39mend)\n\u001b[1;32m     41\u001b[0m \u001b[38;5;28;01mif\u001b[39;00m outmsg:\n\u001b[1;32m     42\u001b[0m     \u001b[38;5;28;01mif\u001b[39;00m color:\n",
      "\u001b[0;31mTypeError\u001b[0m: can only concatenate str (not \"bytes\") to str"
     ]
    }
   ],
   "source": [
    "dm_drio_time_c1 = ParseTime()\n",
    "dm_drio_time_c2 = ParseTime()\n",
    "dm_drio_stats2 = ParseStats()\n",
    "measure(\"'Differential monitor C/C for primes' DynamoRIO sources\",\n",
    "        [Command(*DRIO, \"-c\", f\"{SHAMONPATH}/sources/drregex/libdrregex.so\",\n",
    "                 \"/primes1\", \"prime\", \"#([0-9]+): ([0-9]+)\", \"ii\", \"--\",\n",
    "                 f\"{PRIMESPATH}/primes\", NUM).withparser(dm_drio_time_c1),\n",
    "         Command(*DRIO, \"-c\", f\"{SHAMONPATH}/sources/drregex/libdrregex.so\",\n",
    "                 \"/primes2\", \"prime\", \"#([0-9]+): ([0-9]+)\", \"ii\", \"--\",\n",
    "                 f\"{PRIMESPATH}/primes\", NUM).withparser(dm_drio_time_c2)],\n",
    "        [Command(\"./monitor\", \"Left:drregex:/primes1\", \"Right:drregex:/primes2\").withparser(dm_drio_stats2)])\n",
    "dm_drio_time_c1.report(msg=\"C program\")\n",
    "dm_drio_time_c2.report(msg=\"Python program\")\n",
    "dm_drio_stats2.report()"
   ]
  },
  {
   "cell_type": "code",
   "execution_count": null,
   "id": "95beacd0-56e8-40b5-a4df-5e071e52cb26",
   "metadata": {},
   "outputs": [],
   "source": [
    "dm_pipes_bad_time_c1 = ParseTime()\n",
    "dm_pipes_bad_time_c2 = ParseTime()\n",
    "dm_pipes_bad_stats2 = ParseStats()\n",
    "measure(\"'Differential monitor C/C for primes' piping, 10% mistakes\",\n",
    "        [PipedCommands(Command(f\"{PRIMESPATH}/primes\", NUM).withparser(dm_pipes_bad_time_c1),\n",
    "                       Command(f\"{SHAMONPATH}/sources/regex\", \"/primes1\", \"prime\", \"#([0-9]+): ([0-9]+)\", \"ii\")),\n",
    "         PipedCommands(Command(f\"{PRIMESPATH}/primes-bad\", NUM, str(int(NUM)/10)).withparser(dm_pipes_bad_time_c2),\n",
    "                       Command(f\"{SHAMONPATH}/sources/regex\", \"/primes2\", \"prime\", \"#([0-9]+): ([0-9]+)\", \"ii\"))],\n",
    "        [Command(\"./monitor\", \"Left:drregex:/primes1\", \"Right:drregex:/primes2\").withparser(dm_pipes_bad_stats2)])\n",
    "dm_pipes_bad_time_c1.report(msg=\"C program (1)\")\n",
    "dm_pipes_bad_time_c2.report(msg=\"C program (2)\")\n",
    "dm_pipes_bad_stats2.report()"
   ]
  },
  {
   "cell_type": "code",
   "execution_count": null,
   "id": "d1d8647e-51fe-496f-ab24-cd15c7439035",
   "metadata": {},
   "outputs": [],
   "source": [
    "log(f\"-- Removing working directory {WORKINGDIR} --\")\n",
    "close_log()\n",
    "# chdir(\"/\")\n",
    "# rmtree(WORKINGDIR)"
   ]
  }
 ],
 "metadata": {
  "kernelspec": {
   "display_name": "Python 3 (ipykernel)",
   "language": "python",
   "name": "python3"
  },
  "language_info": {
   "codemirror_mode": {
    "name": "ipython",
    "version": 3
   },
   "file_extension": ".py",
   "mimetype": "text/x-python",
   "name": "python",
   "nbconvert_exporter": "python",
   "pygments_lexer": "ipython3",
   "version": "3.9.2"
  }
 },
 "nbformat": 4,
 "nbformat_minor": 5
}
