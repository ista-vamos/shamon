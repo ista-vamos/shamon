{
 "cells": [
  {
   "cell_type": "code",
   "execution_count": 1,
   "id": "03bad889-87c8-4b68-b3a1-82173fbd75b2",
   "metadata": {},
   "outputs": [],
   "source": [
    "from tempfile import mkdtemp\n",
    "from shutil import rmtree\n",
    "from os import chdir"
   ]
  },
  {
   "cell_type": "code",
   "execution_count": 2,
   "id": "1803b644-4846-4b73-a3f3-2d663c035d84",
   "metadata": {},
   "outputs": [],
   "source": [
    "from measure import *"
   ]
  },
  {
   "cell_type": "code",
   "execution_count": 3,
   "id": "c1c99a79-6567-4431-99d8-f38e9077cc47",
   "metadata": {},
   "outputs": [],
   "source": [
    "SHAMONPATH=\"/home/marek/monitoring/shamon\"\n",
    "DRIOPATH=\"/home/marek/monitoring/dynamorio/\"\n",
    "set_repeat_num(10)\n",
    "NUM=\"2000\""
   ]
  },
  {
   "cell_type": "code",
   "execution_count": 4,
   "id": "ff18681c-84ad-48cf-8e98-e721ab25f7a7",
   "metadata": {},
   "outputs": [],
   "source": [
    "WORKINGDIR = mkdtemp(prefix=\"midmon.\", dir=\"/tmp\")\n",
    "DRRUN=f\"{DRIOPATH}/build/bin64/drrun\"\n",
    "DRIO=[DRRUN, \"-root\",  f\"{DRIOPATH}/build/\",\n",
    "             \"-opt_cleancall\", \"2\", \"-opt_speed\"]\n",
    "PRIMESPATH=f\"{SHAMONPATH}/experiments/primes\"\n",
    "PRIMESSRC=f\"{SHAMONPATH}/mmtest/mmprimes.c\"\n",
    "COMPILESH=f\"{SHAMONPATH}/gen/compile.sh\""
   ]
  },
  {
   "cell_type": "code",
   "execution_count": 5,
   "id": "44fcb97e-49df-4cb1-99c9-fb7592c36690",
   "metadata": {},
   "outputs": [],
   "source": [
    "open_log()"
   ]
  },
  {
   "cell_type": "code",
   "execution_count": 6,
   "id": "2042ced6-8744-4b60-a5c9-d1da49d6a3be",
   "metadata": {},
   "outputs": [
    {
     "name": "stdout",
     "output_type": "stream",
     "text": [
      "-- Working directory is /tmp/midmon.sed1si1o --\n"
     ]
    }
   ],
   "source": [
    "chdir(WORKINGDIR)\n",
    "lprint(f\"-- Working directory is {WORKINGDIR} --\")"
   ]
  },
  {
   "cell_type": "code",
   "execution_count": 7,
   "id": "ef7e6b0f-1d19-40e4-99b2-8abd52f28953",
   "metadata": {},
   "outputs": [
    {
     "name": "stdout",
     "output_type": "stream",
     "text": [
      "-- Compiling monitor --\n",
      "-- \u001b[0;31m!! Compiling monitor failed (see log) --\u001b[0m\n"
     ]
    }
   ],
   "source": [
    "lprint(\"-- Compiling monitor --\")\n",
    "compile_monitor(COMPILESH, PRIMESSRC)"
   ]
  },
  {
   "cell_type": "code",
   "execution_count": 8,
   "id": "d7015546-823c-4020-a987-270ca4fa14f7",
   "metadata": {},
   "outputs": [],
   "source": [
    "class ParseTime:\n",
    "    def __init__(self):\n",
    "        self.times = []\n",
    "        self.time = 0\n",
    "\n",
    "    def parse(self, out, err):\n",
    "        for line in err.splitlines():\n",
    "            if line.startswith(b'time:'):\n",
    "                parts = line.split()\n",
    "                assert len(parts) == 3, parts\n",
    "                f = float(parts[1])\n",
    "                assert f > 0\n",
    "                self.times.append(f)\n",
    "                self.time += f\n",
    "                return\n",
    "\n",
    "        log(\"-- ERROR while parsing stderr for time info:\",\n",
    "            \"-- ERROR while parsing time (see log.txt)--\")\n",
    "        log(err)\n",
    "        raise RuntimeError(\"Did not find time value\")\n",
    "            \n",
    "    def report(self, msg=None):\n",
    "        assert self.time > 0, f\"Invalid time: {self.time}\"\n",
    "        if msg:\n",
    "            lprint(msg, end=' ', color=\"\\033[0;32m\")\n",
    "        val = self.time / repeat_num()\n",
    "        lprint(f\"Avg CPU time ({repeat_num()} measurements): {val} seconds.\", color=\"\\033[0;32m\")\n",
    "        return val"
   ]
  },
  {
   "cell_type": "code",
   "execution_count": 9,
   "id": "d9e9c4cd-1fbd-4800-9fb4-53534d043424",
   "metadata": {},
   "outputs": [],
   "source": [
    "class ParseStats:\n",
    "    def __init__(self):\n",
    "        self.stats = []\n",
    "        self.dl, self.dr = None, None\n",
    "        self.sl, self.sr = None, None\n",
    "        self.il, self.ir = None, None\n",
    "        self.pl, self.pr = None, None\n",
    "        self.errs = None\n",
    "\n",
    "    def parse(self, out, err):\n",
    "        errs = 0\n",
    "        for line in out.splitlines():\n",
    "            if line.startswith(b'ERROR'):\n",
    "                errs += 1\n",
    "            if line.startswith(b'Done!'):\n",
    "                parts = line.split()\n",
    "                assert len(parts) == 25, parts\n",
    "                dl, dr = int(parts[2]), int(parts[5])\n",
    "                sl, sr = int(parts[8]), int(parts[11])\n",
    "                il, ir = int(parts[14]), int(parts[17])\n",
    "                pl, pr = int(parts[20]), int(parts[23])\n",
    "                if dl + sl + il + pl == 0 or dl + sl + il + pl != dr + sr + ir + pr:\n",
    "                    log(out)\n",
    "                    lprint(f\"left: {(dl, sl, il, pl)}, right: {(dr, sr, ir, pr)}, errs: {errs}\")\n",
    "                    lprint(\"Did not find right values\", color=RED)\n",
    "                print((dl, sl, il, pl),(dr, sr, ir, pr), errs)\n",
    "                self.stats.append(((dl, sl, il, pl),(dr, sr, ir, pr), errs))\n",
    "                self.dl, self.dr = dl, dr\n",
    "                self.sl, self.sr = sl, sr\n",
    "                self.il, self.ir = il, ir\n",
    "                self.pl, self.pr = pl, pr\n",
    "                self.errs = errs\n",
    "                return\n",
    "\n",
    "        lprint(\"-- ERROR while parsing monitor output (see log.txt)--\")\n",
    "        log(out)\n",
    "        raise RuntimeError(\"Did not find right values\")\n",
    "        \n",
    "    def report(self, msg=None):\n",
    "        assert self.stats\n",
    "        if msg:\n",
    "            lprint(msg, end=' ', color=\"\\033[0;32m\")\n",
    "        # FIXME: average is not a good statistics here\n",
    "        dl = sum(self.stats[i][0][0] for i in range(len(self.stats)))\n",
    "        dr = sum(self.stats[i][1][0] for i in range(len(self.stats)))\n",
    "        sl = sum(self.stats[i][0][1] for i in range(len(self.stats)))\n",
    "        sr = sum(self.stats[i][1][1] for i in range(len(self.stats)))\n",
    "        il = sum(self.stats[i][0][2] for i in range(len(self.stats)))\n",
    "        ir = sum(self.stats[i][1][2] for i in range(len(self.stats)))\n",
    "        pl = sum(self.stats[i][0][3] for i in range(len(self.stats)))\n",
    "        pr = sum(self.stats[i][1][3] for i in range(len(self.stats)))\n",
    "        errs = sum(self.stats[i][2] for i in range(len(self.stats)))\n",
    "        N = repeat_num()\n",
    "        lprint(f\"For {NUM} incoming events, average of {N} measurements:\", color=GREEN)\n",
    "        lprint(f\"Left dropped: {dl / N}\", color=GREEN)\n",
    "        lprint(f\"Right dropped: {dr / N}\", color=GREEN)\n",
    "        lprint(f\"Left skipped: {sl / N}\", color=GREEN)\n",
    "        lprint(f\"Right skipped: {sr / N}\", color=GREEN)\n",
    "        lprint(f\"Left ignored: {il / N}\", color=GREEN)\n",
    "        lprint(f\"Right ignored: {ir / N}\", color=GREEN)\n",
    "        lprint(f\"Left processed: {pl / N}\", color=GREEN)\n",
    "        lprint(f\"Right processed: {pr / N}\", color=GREEN)\n",
    "        lprint(f\"Detected errors: {errs/ N}\", color=GREEN)\n",
    "        return ((dl, sl, il, pl),(dr, sr, ir, pr), errs)"
   ]
  },
  {
   "cell_type": "code",
   "execution_count": 10,
   "id": "0da6f460-314b-4e18-a21c-0c1430cf5a67",
   "metadata": {},
   "outputs": [
    {
     "name": "stdout",
     "output_type": "stream",
     "text": [
      "Enumerating primes up to 2000th prime...\n",
      "Taking average of 10 runs...\n",
      "\n"
     ]
    }
   ],
   "source": [
    "lprint(f\"Enumerating primes up to {NUM}th prime...\")\n",
    "lprint(f\"Taking average of {repeat_num()} runs...\\n\")"
   ]
  },
  {
   "cell_type": "code",
   "execution_count": 11,
   "id": "77e402e2-409c-4e0e-a22c-81dff2f6bbe1",
   "metadata": {},
   "outputs": [
    {
     "name": "stdout",
     "output_type": "stream",
     "text": [
      "\u001b[0;34m------- 'C primes' alone ------\u001b[0m\n",
      "\u001b[0;32mAvg CPU time (10 measurements): 0.014632200000000001 seconds.\n",
      "\u001b[0m\n"
     ]
    },
    {
     "data": {
      "text/plain": [
       "0.014632200000000001"
      ]
     },
     "execution_count": 11,
     "metadata": {},
     "output_type": "execute_result"
    }
   ],
   "source": [
    "c_native = ParseTime()\n",
    "measure(\"'C primes' alone\",\n",
    "        [Command(f\"{PRIMESPATH}/primes\", NUM).withparser(c_native)])\n",
    "c_native.report()"
   ]
  },
  {
   "cell_type": "code",
   "execution_count": 12,
   "id": "186fb247-7a48-4b71-9545-149498250e2a",
   "metadata": {},
   "outputs": [
    {
     "name": "stdout",
     "output_type": "stream",
     "text": [
      "\u001b[0;34m------- 'C primes' DynamoRIO (no monitor) ------\u001b[0m\n",
      "\u001b[0;32mAvg CPU time (10 measurements): 0.0194054 seconds.\n",
      "\u001b[0m\n"
     ]
    },
    {
     "data": {
      "text/plain": [
       "0.0194054"
      ]
     },
     "execution_count": 12,
     "metadata": {},
     "output_type": "execute_result"
    }
   ],
   "source": [
    "c_drio = ParseTime()\n",
    "measure(\"'C primes' DynamoRIO (no monitor)\",\n",
    "        [Command(*DRIO, \"--\", f\"{PRIMESPATH}/primes\", NUM).withparser(c_drio)])\n",
    "c_drio.report()"
   ]
  },
  {
   "cell_type": "code",
   "execution_count": 13,
   "id": "79ee01c6-401e-4aca-b93f-e1d17227ff40",
   "metadata": {},
   "outputs": [
    {
     "name": "stdout",
     "output_type": "stream",
     "text": [
      "\u001b[0;34m------- 'C primes' piping (monitor reads and drops) ------\u001b[0m\n",
      "\u001b[0;32mAvg CPU time (10 measurements): 0.07547870000000007 seconds.\n",
      "\u001b[0m\n"
     ]
    },
    {
     "data": {
      "text/plain": [
       "0.07547870000000007"
      ]
     },
     "execution_count": 13,
     "metadata": {},
     "output_type": "execute_result"
    }
   ],
   "source": [
    "c_pipes = ParseTime()\n",
    "measure(\"'C primes' piping (monitor reads and drops)\",\n",
    "        [PipedCommands(Command(f\"{PRIMESPATH}/primes\", NUM).withparser(c_pipes),\n",
    "                       Command(f\"{SHAMONPATH}/sources/regex\", \"/primes\", \"prime\", \"#([0-9]+): ([0-9]+)\", \"ii\"))],\n",
    "        [Command(f\"{SHAMONPATH}/experiments/monitor-consume\", \"primes:regex:/primes\")])\n",
    "c_pipes.report()"
   ]
  },
  {
   "cell_type": "code",
   "execution_count": 14,
   "id": "ad9ef72d-992c-45a0-aa46-8e0b5c92e613",
   "metadata": {},
   "outputs": [
    {
     "name": "stdout",
     "output_type": "stream",
     "text": [
      "\u001b[0;34m------- 'C primes' DynamoRIO (monitor reads and drops) ------\u001b[0m\n",
      "\u001b[0;37m[stdout] b\"Getting shared buffer '/primes1'\"\u001b[0m\n",
      "\u001b[0;37m[stdout] b\"Getting control buffer '/primes1.ctrl'\"\u001b[0m\n",
      "\u001b[0;37m[stdout] b'   ... its size is 120'\u001b[0m\n",
      "\u001b[0;37m[stdout] b\"[stream-drregex] event 'prime', kind: '2', size: '24', signature: 'ii'\"\u001b[0m\n",
      "\u001b[0;37m[stdout] b'Running fetch & autodrop for stream drregex-stream'\u001b[0m\n",
      "\u001b[0;37m[stdout] b'Processed 1999 events'\u001b[0m\n",
      "\u001b[0;37m[stdout] b'BMM for stream 1 (drregex-stream) exits'\u001b[0m\n",
      "\u001b[0;37m[stdout] b\"Getting shared buffer '/primes1'\"\u001b[0m\n",
      "\u001b[0;37m[stdout] b\"Getting control buffer '/primes1.ctrl'\"\u001b[0m\n",
      "\u001b[0;37m[stdout] b'   ... its size is 120'\u001b[0m\n",
      "\u001b[0;37m[stdout] b\"[stream-drregex] event 'prime', kind: '2', size: '24', signature: 'ii'\"\u001b[0m\n",
      "\u001b[0;37m[stdout] b'Running fetch & autodrop for stream drregex-stream'\u001b[0m\n",
      "\u001b[0;37m[stdout] b'Processed 1999 events'\u001b[0m\n",
      "\u001b[0;37m[stdout] b'BMM for stream 1 (drregex-stream) exits'\u001b[0m\n",
      "\u001b[0;37m[stdout] b\"Getting shared buffer '/primes1'\"\u001b[0m\n",
      "\u001b[0;37m[stdout] b\"Getting control buffer '/primes1.ctrl'\"\u001b[0m\n",
      "\u001b[0;37m[stdout] b'   ... its size is 120'\u001b[0m\n",
      "\u001b[0;37m[stdout] b\"[stream-drregex] event 'prime', kind: '2', size: '24', signature: 'ii'\"\u001b[0m\n",
      "\u001b[0;37m[stdout] b'Running fetch & autodrop for stream drregex-stream'\u001b[0m\n",
      "\u001b[0;37m[stdout] b'Processed 1999 events'\u001b[0m\n",
      "\u001b[0;37m[stdout] b'BMM for stream 1 (drregex-stream) exits'\u001b[0m\n",
      "\u001b[0;37m[stdout] b\"Getting shared buffer '/primes1'\"\u001b[0m\n",
      "\u001b[0;37m[stdout] b\"Getting control buffer '/primes1.ctrl'\"\u001b[0m\n",
      "\u001b[0;37m[stdout] b'   ... its size is 120'\u001b[0m\n",
      "\u001b[0;37m[stdout] b\"[stream-drregex] event 'prime', kind: '2', size: '24', signature: 'ii'\"\u001b[0m\n",
      "\u001b[0;37m[stdout] b'Running fetch & autodrop for stream drregex-stream'\u001b[0m\n",
      "\u001b[0;37m[stdout] b'Processed 1999 events'\u001b[0m\n",
      "\u001b[0;37m[stdout] b'BMM for stream 1 (drregex-stream) exits'\u001b[0m\n",
      "\u001b[0;37m[stdout] b\"Getting shared buffer '/primes1'\"\u001b[0m\n",
      "\u001b[0;37m[stdout] b\"Getting control buffer '/primes1.ctrl'\"\u001b[0m\n",
      "\u001b[0;37m[stdout] b'   ... its size is 120'\u001b[0m\n",
      "\u001b[0;37m[stdout] b\"[stream-drregex] event 'prime', kind: '2', size: '24', signature: 'ii'\"\u001b[0m\n",
      "\u001b[0;37m[stdout] b'Running fetch & autodrop for stream drregex-stream'\u001b[0m\n",
      "\u001b[0;37m[stdout] b'Processed 1999 events'\u001b[0m\n",
      "\u001b[0;37m[stdout] b'BMM for stream 1 (drregex-stream) exits'\u001b[0m\n",
      "\u001b[0;37m[stdout] b\"Getting shared buffer '/primes1'\"\u001b[0m\n",
      "\u001b[0;37m[stdout] b\"Getting control buffer '/primes1.ctrl'\"\u001b[0m\n",
      "\u001b[0;37m[stdout] b'   ... its size is 120'\u001b[0m\n",
      "\u001b[0;37m[stdout] b\"[stream-drregex] event 'prime', kind: '2', size: '24', signature: 'ii'\"\u001b[0m\n",
      "\u001b[0;37m[stdout] b'Running fetch & autodrop for stream drregex-stream'\u001b[0m\n",
      "\u001b[0;37m[stdout] b'Processed 1999 events'\u001b[0m\n",
      "\u001b[0;37m[stdout] b'BMM for stream 1 (drregex-stream) exits'\u001b[0m\n",
      "\u001b[0;37m[stdout] b\"Getting shared buffer '/primes1'\"\u001b[0m\n",
      "\u001b[0;37m[stdout] b\"Getting control buffer '/primes1.ctrl'\"\u001b[0m\n",
      "\u001b[0;37m[stdout] b'   ... its size is 120'\u001b[0m\n",
      "\u001b[0;37m[stdout] b\"[stream-drregex] event 'prime', kind: '2', size: '24', signature: 'ii'\"\u001b[0m\n",
      "\u001b[0;37m[stdout] b'Running fetch & autodrop for stream drregex-stream'\u001b[0m\n",
      "\u001b[0;37m[stdout] b'Processed 1999 events'\u001b[0m\n",
      "\u001b[0;37m[stdout] b'BMM for stream 1 (drregex-stream) exits'\u001b[0m\n",
      "\u001b[0;37m[stdout] b\"Getting shared buffer '/primes1'\"\u001b[0m\n",
      "\u001b[0;37m[stdout] b\"Getting control buffer '/primes1.ctrl'\"\u001b[0m\n",
      "\u001b[0;37m[stdout] b'   ... its size is 120'\u001b[0m\n",
      "\u001b[0;37m[stdout] b\"[stream-drregex] event 'prime', kind: '2', size: '24', signature: 'ii'\"\u001b[0m\n",
      "\u001b[0;37m[stdout] b'Running fetch & autodrop for stream drregex-stream'\u001b[0m\n",
      "\u001b[0;37m[stdout] b'Processed 1999 events'\u001b[0m\n",
      "\u001b[0;37m[stdout] b'BMM for stream 1 (drregex-stream) exits'\u001b[0m\n",
      "\u001b[0;37m[stdout] b\"Getting shared buffer '/primes1'\"\u001b[0m\n",
      "\u001b[0;37m[stdout] b\"Getting control buffer '/primes1.ctrl'\"\u001b[0m\n",
      "\u001b[0;37m[stdout] b'   ... its size is 120'\u001b[0m\n",
      "\u001b[0;37m[stdout] b\"[stream-drregex] event 'prime', kind: '2', size: '24', signature: 'ii'\"\u001b[0m\n",
      "\u001b[0;37m[stdout] b'Running fetch & autodrop for stream drregex-stream'\u001b[0m\n",
      "\u001b[0;37m[stdout] b'Processed 1999 events'\u001b[0m\n",
      "\u001b[0;37m[stdout] b'BMM for stream 1 (drregex-stream) exits'\u001b[0m\n",
      "\u001b[0;37m[stdout] b\"Getting shared buffer '/primes1'\"\u001b[0m\n",
      "\u001b[0;37m[stdout] b\"Getting control buffer '/primes1.ctrl'\"\u001b[0m\n",
      "\u001b[0;37m[stdout] b'   ... its size is 120'\u001b[0m\n",
      "\u001b[0;37m[stdout] b\"[stream-drregex] event 'prime', kind: '2', size: '24', signature: 'ii'\"\u001b[0m\n",
      "\u001b[0;37m[stdout] b'Running fetch & autodrop for stream drregex-stream'\u001b[0m\n",
      "\u001b[0;37m[stdout] b'Processed 1999 events'\u001b[0m\n",
      "\u001b[0;37m[stdout] b'BMM for stream 1 (drregex-stream) exits'\u001b[0m\n",
      "\u001b[0;32mAvg CPU time (10 measurements): 0.0251752 seconds.\n",
      "\u001b[0m\n"
     ]
    },
    {
     "data": {
      "text/plain": [
       "0.0251752"
      ]
     },
     "execution_count": 14,
     "metadata": {},
     "output_type": "execute_result"
    }
   ],
   "source": [
    "c_drio_consume = ParseTime()\n",
    "measure(\"'C primes' DynamoRIO (monitor reads and drops)\",\n",
    "        [Command(*DRIO, \"-c\", f\"{SHAMONPATH}/sources/drregex/libdrregex.so\",\n",
    "                 \"/primes1\", \"prime\", \"#([0-9]+): ([0-9]+)\", \"ii\",\n",
    "                 \"--\", f\"{PRIMESPATH}/primes\", NUM).withparser(c_drio_consume)],\n",
    "        #[Command(f\"{SHAMONPATH}/experiments/monitor-consume\", \"primes:drregex:/primes1\").withparser(PrintOutErr())])\n",
    "        [Command(f\"{SHAMONPATH}/experiments/monitor-consume\", \"primes:drregex:/primes1\").withparser(PrintOutErr())])\n",
    "c_drio_consume.report()"
   ]
  },
  {
   "cell_type": "code",
   "execution_count": 15,
   "id": "4638afbd-1add-4bd3-a524-46719784fb67",
   "metadata": {},
   "outputs": [
    {
     "name": "stdout",
     "output_type": "stream",
     "text": [
      "\u001b[0;34m------- 'Python primes' alone ------\u001b[0m\n",
      "\u001b[0;32mAvg CPU time (10 measurements): 0.12580884 seconds.\n",
      "\u001b[0m\n"
     ]
    },
    {
     "data": {
      "text/plain": [
       "0.12580884"
      ]
     },
     "execution_count": 15,
     "metadata": {},
     "output_type": "execute_result"
    }
   ],
   "source": [
    "python_native = ParseTime()\n",
    "measure(\"'Python primes' alone\", [Command(f\"{PRIMESPATH}/primes.py\", NUM).withparser(python_native)])\n",
    "python_native.report()"
   ]
  },
  {
   "cell_type": "code",
   "execution_count": 16,
   "id": "4f3fcc65-cfef-43e2-a7c6-5c40d542fba2",
   "metadata": {},
   "outputs": [
    {
     "name": "stdout",
     "output_type": "stream",
     "text": [
      "\u001b[0;34m------- 'Python primes' DynamoRIO (no monitor) ------\u001b[0m\n",
      "\u001b[0;32mAvg CPU time (10 measurements): 0.21728503 seconds.\n",
      "\u001b[0m\n"
     ]
    },
    {
     "data": {
      "text/plain": [
       "0.21728503"
      ]
     },
     "execution_count": 16,
     "metadata": {},
     "output_type": "execute_result"
    }
   ],
   "source": [
    "python_drio = ParseTime()\n",
    "measure(\"'Python primes' DynamoRIO (no monitor)\",\n",
    "        [Command(*DRIO, \"--\", \"python3\", f\"{PRIMESPATH}/primes.py\", NUM).withparser(python_drio)])\n",
    "python_drio.report()"
   ]
  },
  {
   "cell_type": "code",
   "execution_count": 17,
   "id": "8f06bc32-8074-44ae-9082-03d8b5da5849",
   "metadata": {},
   "outputs": [
    {
     "name": "stdout",
     "output_type": "stream",
     "text": [
      "\u001b[0;34m------- 'Python primes' piping (monitor reads and drops) ------\u001b[0m\n",
      "\u001b[0;32mAvg CPU time (10 measurements): 0.7095083199999995 seconds.\n",
      "\u001b[0m\n"
     ]
    },
    {
     "data": {
      "text/plain": [
       "0.7095083199999995"
      ]
     },
     "execution_count": 17,
     "metadata": {},
     "output_type": "execute_result"
    }
   ],
   "source": [
    "python_pipe = ParseTime()\n",
    "measure(\"'Python primes' piping (monitor reads and drops)\",\n",
    "        [PipedCommands(Command(\"python3\", f\"{PRIMESPATH}/primes.py\", NUM).withparser(python_pipe),\n",
    "                       Command(f\"{SHAMONPATH}/sources/regex\", \"/primes\", \"prime\", \"#([0-9]+): ([0-9]+)\", \"ii\"))],\n",
    "        [Command(f\"{SHAMONPATH}/experiments/monitor-consume\", \"primes:regex:/primes\")])\n",
    "python_pipe.report()"
   ]
  },
  {
   "cell_type": "code",
   "execution_count": 18,
   "id": "13ec7579-3961-4f9b-bb8f-dac3ad2438a8",
   "metadata": {},
   "outputs": [
    {
     "name": "stdout",
     "output_type": "stream",
     "text": [
      "\u001b[0;34m------- 'Python primes' DynamoRIO (monitor reads and drops) ------\u001b[0m\n",
      "\u001b[0;37m[stdout] b\"Getting shared buffer '/primes1'\"\u001b[0m\n",
      "\u001b[0;37m[stdout] b\"Getting control buffer '/primes1.ctrl'\"\u001b[0m\n",
      "\u001b[0;37m[stdout] b'   ... its size is 120'\u001b[0m\n",
      "\u001b[0;37m[stdout] b\"[stream-drregex] event 'prime', kind: '2', size: '24', signature: 'ii'\"\u001b[0m\n",
      "\u001b[0;37m[stdout] b'Running fetch & autodrop for stream drregex-stream'\u001b[0m\n",
      "\u001b[0;37m[stdout] b'Processed 2000 events'\u001b[0m\n",
      "\u001b[0;37m[stdout] b'BMM for stream 1 (drregex-stream) exits'\u001b[0m\n",
      "\u001b[0;37m[stdout] b\"Getting shared buffer '/primes1'\"\u001b[0m\n",
      "\u001b[0;37m[stdout] b\"Getting control buffer '/primes1.ctrl'\"\u001b[0m\n",
      "\u001b[0;37m[stdout] b'   ... its size is 120'\u001b[0m\n",
      "\u001b[0;37m[stdout] b\"[stream-drregex] event 'prime', kind: '2', size: '24', signature: 'ii'\"\u001b[0m\n",
      "\u001b[0;37m[stdout] b'Running fetch & autodrop for stream drregex-stream'\u001b[0m\n",
      "\u001b[0;37m[stdout] b'Processed 2000 events'\u001b[0m\n",
      "\u001b[0;37m[stdout] b'BMM for stream 1 (drregex-stream) exits'\u001b[0m\n",
      "\u001b[0;37m[stdout] b\"Getting shared buffer '/primes1'\"\u001b[0m\n",
      "\u001b[0;37m[stdout] b\"Getting control buffer '/primes1.ctrl'\"\u001b[0m\n",
      "\u001b[0;37m[stdout] b'   ... its size is 120'\u001b[0m\n",
      "\u001b[0;37m[stdout] b\"[stream-drregex] event 'prime', kind: '2', size: '24', signature: 'ii'\"\u001b[0m\n",
      "\u001b[0;37m[stdout] b'Running fetch & autodrop for stream drregex-stream'\u001b[0m\n",
      "\u001b[0;37m[stdout] b'Processed 2000 events'\u001b[0m\n",
      "\u001b[0;37m[stdout] b'BMM for stream 1 (drregex-stream) exits'\u001b[0m\n",
      "\u001b[0;37m[stdout] b\"Getting shared buffer '/primes1'\"\u001b[0m\n",
      "\u001b[0;37m[stdout] b\"Getting control buffer '/primes1.ctrl'\"\u001b[0m\n",
      "\u001b[0;37m[stdout] b'   ... its size is 120'\u001b[0m\n",
      "\u001b[0;37m[stdout] b\"[stream-drregex] event 'prime', kind: '2', size: '24', signature: 'ii'\"\u001b[0m\n",
      "\u001b[0;37m[stdout] b'Running fetch & autodrop for stream drregex-stream'\u001b[0m\n",
      "\u001b[0;37m[stdout] b'Processed 2000 events'\u001b[0m\n",
      "\u001b[0;37m[stdout] b'BMM for stream 1 (drregex-stream) exits'\u001b[0m\n",
      "\u001b[0;37m[stdout] b\"Getting shared buffer '/primes1'\"\u001b[0m\n",
      "\u001b[0;37m[stdout] b\"Getting control buffer '/primes1.ctrl'\"\u001b[0m\n",
      "\u001b[0;37m[stdout] b'   ... its size is 120'\u001b[0m\n",
      "\u001b[0;37m[stdout] b\"[stream-drregex] event 'prime', kind: '2', size: '24', signature: 'ii'\"\u001b[0m\n",
      "\u001b[0;37m[stdout] b'Running fetch & autodrop for stream drregex-stream'\u001b[0m\n",
      "\u001b[0;37m[stdout] b'Processed 2000 events'\u001b[0m\n",
      "\u001b[0;37m[stdout] b'BMM for stream 1 (drregex-stream) exits'\u001b[0m\n",
      "\u001b[0;37m[stdout] b\"Getting shared buffer '/primes1'\"\u001b[0m\n",
      "\u001b[0;37m[stdout] b\"Getting control buffer '/primes1.ctrl'\"\u001b[0m\n",
      "\u001b[0;37m[stdout] b'   ... its size is 120'\u001b[0m\n",
      "\u001b[0;37m[stdout] b\"[stream-drregex] event 'prime', kind: '2', size: '24', signature: 'ii'\"\u001b[0m\n",
      "\u001b[0;37m[stdout] b'Running fetch & autodrop for stream drregex-stream'\u001b[0m\n",
      "\u001b[0;37m[stdout] b'Processed 2000 events'\u001b[0m\n",
      "\u001b[0;37m[stdout] b'BMM for stream 1 (drregex-stream) exits'\u001b[0m\n",
      "\u001b[0;37m[stdout] b\"Getting shared buffer '/primes1'\"\u001b[0m\n",
      "\u001b[0;37m[stdout] b\"Getting control buffer '/primes1.ctrl'\"\u001b[0m\n",
      "\u001b[0;37m[stdout] b'   ... its size is 120'\u001b[0m\n",
      "\u001b[0;37m[stdout] b\"[stream-drregex] event 'prime', kind: '2', size: '24', signature: 'ii'\"\u001b[0m\n",
      "\u001b[0;37m[stdout] b'Running fetch & autodrop for stream drregex-stream'\u001b[0m\n",
      "\u001b[0;37m[stdout] b'Processed 2000 events'\u001b[0m\n",
      "\u001b[0;37m[stdout] b'BMM for stream 1 (drregex-stream) exits'\u001b[0m\n",
      "\u001b[0;37m[stdout] b\"Getting shared buffer '/primes1'\"\u001b[0m\n",
      "\u001b[0;37m[stdout] b\"Getting control buffer '/primes1.ctrl'\"\u001b[0m\n",
      "\u001b[0;37m[stdout] b'   ... its size is 120'\u001b[0m\n",
      "\u001b[0;37m[stdout] b\"[stream-drregex] event 'prime', kind: '2', size: '24', signature: 'ii'\"\u001b[0m\n",
      "\u001b[0;37m[stdout] b'Running fetch & autodrop for stream drregex-stream'\u001b[0m\n",
      "\u001b[0;37m[stdout] b'Processed 2000 events'\u001b[0m\n",
      "\u001b[0;37m[stdout] b'BMM for stream 1 (drregex-stream) exits'\u001b[0m\n",
      "\u001b[0;37m[stdout] b\"Getting shared buffer '/primes1'\"\u001b[0m\n",
      "\u001b[0;37m[stdout] b\"Getting control buffer '/primes1.ctrl'\"\u001b[0m\n",
      "\u001b[0;37m[stdout] b'   ... its size is 120'\u001b[0m\n",
      "\u001b[0;37m[stdout] b\"[stream-drregex] event 'prime', kind: '2', size: '24', signature: 'ii'\"\u001b[0m\n",
      "\u001b[0;37m[stdout] b'Running fetch & autodrop for stream drregex-stream'\u001b[0m\n",
      "\u001b[0;37m[stdout] b'Processed 2000 events'\u001b[0m\n",
      "\u001b[0;37m[stdout] b'BMM for stream 1 (drregex-stream) exits'\u001b[0m\n",
      "\u001b[0;37m[stdout] b\"Getting shared buffer '/primes1'\"\u001b[0m\n",
      "\u001b[0;37m[stdout] b\"Getting control buffer '/primes1.ctrl'\"\u001b[0m\n",
      "\u001b[0;37m[stdout] b'   ... its size is 120'\u001b[0m\n",
      "\u001b[0;37m[stdout] b\"[stream-drregex] event 'prime', kind: '2', size: '24', signature: 'ii'\"\u001b[0m\n",
      "\u001b[0;37m[stdout] b'Running fetch & autodrop for stream drregex-stream'\u001b[0m\n",
      "\u001b[0;37m[stdout] b'Processed 2000 events'\u001b[0m\n",
      "\u001b[0;37m[stdout] b'BMM for stream 1 (drregex-stream) exits'\u001b[0m\n",
      "\u001b[0;32mAvg CPU time (10 measurements): 0.26043125 seconds.\n",
      "\u001b[0m\n"
     ]
    },
    {
     "data": {
      "text/plain": [
       "0.26043125"
      ]
     },
     "execution_count": 18,
     "metadata": {},
     "output_type": "execute_result"
    }
   ],
   "source": [
    "python_drio_consume = ParseTime()\n",
    "measure(\"'Python primes' DynamoRIO (monitor reads and drops)\",\n",
    "        [Command(*DRIO, \"-c\", f\"{SHAMONPATH}/sources/drregex/libdrregex.so\", \n",
    "                 \"/primes1\", \"prime\", \"#([0-9]+): ([0-9]+)\", \"ii\",\n",
    "                 \"--\", \"python3\", f\"{PRIMESPATH}/primes.py\", NUM).withparser(python_drio_consume)],\n",
    "        [Command(f\"{SHAMONPATH}/experiments/monitor-consume\", \"primes:drregex:/primes1\")])\n",
    "python_drio_consume.report()"
   ]
  },
  {
   "cell_type": "code",
   "execution_count": 19,
   "id": "f4640459-a5d7-40ec-9e94-130a6e266e79",
   "metadata": {},
   "outputs": [
    {
     "name": "stdout",
     "output_type": "stream",
     "text": [
      "\u001b[0;34m------- 'Differential monitor C/Py for primes' piping ------\u001b[0m\n"
     ]
    },
    {
     "ename": "FileNotFoundError",
     "evalue": "[Errno 2] No such file or directory: './monitor'",
     "output_type": "error",
     "traceback": [
      "\u001b[0;31m---------------------------------------------------------------------------\u001b[0m",
      "\u001b[0;31mFileNotFoundError\u001b[0m                         Traceback (most recent call last)",
      "Input \u001b[0;32mIn [19]\u001b[0m, in \u001b[0;36m<cell line: 4>\u001b[0;34m()\u001b[0m\n\u001b[1;32m      2\u001b[0m dm_pipes_time_py \u001b[38;5;241m=\u001b[39m ParseTime()\n\u001b[1;32m      3\u001b[0m dm_pipes_stats \u001b[38;5;241m=\u001b[39m ParseStats()\n\u001b[0;32m----> 4\u001b[0m \u001b[43mmeasure\u001b[49m\u001b[43m(\u001b[49m\u001b[38;5;124;43m\"\u001b[39;49m\u001b[38;5;124;43m'\u001b[39;49m\u001b[38;5;124;43mDifferential monitor C/Py for primes\u001b[39;49m\u001b[38;5;124;43m'\u001b[39;49m\u001b[38;5;124;43m piping\u001b[39;49m\u001b[38;5;124;43m\"\u001b[39;49m\u001b[43m,\u001b[49m\n\u001b[1;32m      5\u001b[0m \u001b[43m        \u001b[49m\u001b[43m[\u001b[49m\u001b[43mPipedCommands\u001b[49m\u001b[43m(\u001b[49m\u001b[43mCommand\u001b[49m\u001b[43m(\u001b[49m\u001b[38;5;124;43mf\u001b[39;49m\u001b[38;5;124;43m\"\u001b[39;49m\u001b[38;5;132;43;01m{\u001b[39;49;00m\u001b[43mPRIMESPATH\u001b[49m\u001b[38;5;132;43;01m}\u001b[39;49;00m\u001b[38;5;124;43m/primes\u001b[39;49m\u001b[38;5;124;43m\"\u001b[39;49m\u001b[43m,\u001b[49m\u001b[43m \u001b[49m\u001b[43mNUM\u001b[49m\u001b[43m)\u001b[49m\u001b[38;5;241;43m.\u001b[39;49m\u001b[43mwithparser\u001b[49m\u001b[43m(\u001b[49m\u001b[43mdm_pipes_time_c\u001b[49m\u001b[43m)\u001b[49m\u001b[43m,\u001b[49m\n\u001b[1;32m      6\u001b[0m \u001b[43m                       \u001b[49m\u001b[43mCommand\u001b[49m\u001b[43m(\u001b[49m\u001b[38;5;124;43mf\u001b[39;49m\u001b[38;5;124;43m\"\u001b[39;49m\u001b[38;5;132;43;01m{\u001b[39;49;00m\u001b[43mSHAMONPATH\u001b[49m\u001b[38;5;132;43;01m}\u001b[39;49;00m\u001b[38;5;124;43m/sources/regex\u001b[39;49m\u001b[38;5;124;43m\"\u001b[39;49m\u001b[43m,\u001b[49m\u001b[43m \u001b[49m\u001b[38;5;124;43m\"\u001b[39;49m\u001b[38;5;124;43m/primes1\u001b[39;49m\u001b[38;5;124;43m\"\u001b[39;49m\u001b[43m,\u001b[49m\u001b[43m \u001b[49m\u001b[38;5;124;43m\"\u001b[39;49m\u001b[38;5;124;43mprime\u001b[39;49m\u001b[38;5;124;43m\"\u001b[39;49m\u001b[43m,\u001b[49m\u001b[43m \u001b[49m\u001b[38;5;124;43m\"\u001b[39;49m\u001b[38;5;124;43m#([0-9]+): ([0-9]+)\u001b[39;49m\u001b[38;5;124;43m\"\u001b[39;49m\u001b[43m,\u001b[49m\u001b[43m \u001b[49m\u001b[38;5;124;43m\"\u001b[39;49m\u001b[38;5;124;43mii\u001b[39;49m\u001b[38;5;124;43m\"\u001b[39;49m\u001b[43m)\u001b[49m\u001b[43m)\u001b[49m\u001b[43m,\u001b[49m\n\u001b[1;32m      7\u001b[0m \u001b[43m         \u001b[49m\u001b[43mPipedCommands\u001b[49m\u001b[43m(\u001b[49m\u001b[43mCommand\u001b[49m\u001b[43m(\u001b[49m\u001b[38;5;124;43m\"\u001b[39;49m\u001b[38;5;124;43mpython3\u001b[39;49m\u001b[38;5;124;43m\"\u001b[39;49m\u001b[43m,\u001b[49m\u001b[43m \u001b[49m\u001b[38;5;124;43mf\u001b[39;49m\u001b[38;5;124;43m\"\u001b[39;49m\u001b[38;5;132;43;01m{\u001b[39;49;00m\u001b[43mPRIMESPATH\u001b[49m\u001b[38;5;132;43;01m}\u001b[39;49;00m\u001b[38;5;124;43m/primes.py\u001b[39;49m\u001b[38;5;124;43m\"\u001b[39;49m\u001b[43m,\u001b[49m\u001b[43m \u001b[49m\u001b[43mNUM\u001b[49m\u001b[43m)\u001b[49m\u001b[38;5;241;43m.\u001b[39;49m\u001b[43mwithparser\u001b[49m\u001b[43m(\u001b[49m\u001b[43mdm_pipes_time_py\u001b[49m\u001b[43m)\u001b[49m\u001b[43m,\u001b[49m\n\u001b[1;32m      8\u001b[0m \u001b[43m                       \u001b[49m\u001b[43mCommand\u001b[49m\u001b[43m(\u001b[49m\u001b[38;5;124;43mf\u001b[39;49m\u001b[38;5;124;43m\"\u001b[39;49m\u001b[38;5;132;43;01m{\u001b[39;49;00m\u001b[43mSHAMONPATH\u001b[49m\u001b[38;5;132;43;01m}\u001b[39;49;00m\u001b[38;5;124;43m/sources/regex\u001b[39;49m\u001b[38;5;124;43m\"\u001b[39;49m\u001b[43m,\u001b[49m\u001b[43m \u001b[49m\u001b[38;5;124;43m\"\u001b[39;49m\u001b[38;5;124;43m/primes2\u001b[39;49m\u001b[38;5;124;43m\"\u001b[39;49m\u001b[43m,\u001b[49m\u001b[43m \u001b[49m\u001b[38;5;124;43m\"\u001b[39;49m\u001b[38;5;124;43mprime\u001b[39;49m\u001b[38;5;124;43m\"\u001b[39;49m\u001b[43m,\u001b[49m\u001b[43m \u001b[49m\u001b[38;5;124;43m\"\u001b[39;49m\u001b[38;5;124;43m#([0-9]+): ([0-9]+)\u001b[39;49m\u001b[38;5;124;43m\"\u001b[39;49m\u001b[43m,\u001b[49m\u001b[43m \u001b[49m\u001b[38;5;124;43m\"\u001b[39;49m\u001b[38;5;124;43mii\u001b[39;49m\u001b[38;5;124;43m\"\u001b[39;49m\u001b[43m)\u001b[49m\u001b[43m)\u001b[49m\u001b[43m]\u001b[49m\u001b[43m,\u001b[49m\n\u001b[1;32m      9\u001b[0m \u001b[43m        \u001b[49m\u001b[43m[\u001b[49m\u001b[43mCommand\u001b[49m\u001b[43m(\u001b[49m\u001b[38;5;124;43m\"\u001b[39;49m\u001b[38;5;124;43m./monitor\u001b[39;49m\u001b[38;5;124;43m\"\u001b[39;49m\u001b[43m,\u001b[49m\u001b[43m \u001b[49m\u001b[38;5;124;43m\"\u001b[39;49m\u001b[38;5;124;43mLeft:drregex:/primes1\u001b[39;49m\u001b[38;5;124;43m\"\u001b[39;49m\u001b[43m,\u001b[49m\u001b[43m \u001b[49m\u001b[38;5;124;43m\"\u001b[39;49m\u001b[38;5;124;43mRight:drregex:/primes2\u001b[39;49m\u001b[38;5;124;43m\"\u001b[39;49m\u001b[43m)\u001b[49m\u001b[38;5;241;43m.\u001b[39;49m\u001b[43mwithparser\u001b[49m\u001b[43m(\u001b[49m\u001b[43mdm_pipes_stats\u001b[49m\u001b[43m)\u001b[49m\u001b[43m]\u001b[49m\u001b[43m)\u001b[49m\n\u001b[1;32m     10\u001b[0m dm_pipes_time_c\u001b[38;5;241m.\u001b[39mreport(msg\u001b[38;5;241m=\u001b[39m\u001b[38;5;124m\"\u001b[39m\u001b[38;5;124mC program\u001b[39m\u001b[38;5;124m\"\u001b[39m)\n\u001b[1;32m     11\u001b[0m dm_pipes_time_py\u001b[38;5;241m.\u001b[39mreport(msg\u001b[38;5;241m=\u001b[39m\u001b[38;5;124m\"\u001b[39m\u001b[38;5;124mPython program\u001b[39m\u001b[38;5;124m\"\u001b[39m)\n",
      "File \u001b[0;32m~/monitoring/shamon/experiments/primes/measure.py:145\u001b[0m, in \u001b[0;36mmeasure\u001b[0;34m(name, cmds, moncmds)\u001b[0m\n\u001b[1;32m    142\u001b[0m \u001b[38;5;28;01mdef\u001b[39;00m \u001b[38;5;21mmeasure\u001b[39m(name, cmds, moncmds\u001b[38;5;241m=\u001b[39m()):\n\u001b[1;32m    143\u001b[0m     log(\u001b[38;5;124mf\u001b[39m\u001b[38;5;124m\"\u001b[39m\u001b[38;5;124m------- \u001b[39m\u001b[38;5;132;01m{\u001b[39;00mname\u001b[38;5;132;01m}\u001b[39;00m\u001b[38;5;124m ------\u001b[39m\u001b[38;5;124m\"\u001b[39m,\n\u001b[1;32m    144\u001b[0m         \u001b[38;5;124mf\u001b[39m\u001b[38;5;124m\"\u001b[39m\u001b[38;5;130;01m\\033\u001b[39;00m\u001b[38;5;124m[0;34m------- \u001b[39m\u001b[38;5;132;01m{\u001b[39;00mname\u001b[38;5;132;01m}\u001b[39;00m\u001b[38;5;124m ------\u001b[39m\u001b[38;5;130;01m\\033\u001b[39;00m\u001b[38;5;124m[0m\u001b[39m\u001b[38;5;124m\"\u001b[39m)\n\u001b[0;32m--> 145\u001b[0m     \u001b[43m_measure\u001b[49m\u001b[43m(\u001b[49m\u001b[43mcmds\u001b[49m\u001b[43m,\u001b[49m\u001b[43m \u001b[49m\u001b[43mmoncmds\u001b[49m\u001b[43m)\u001b[49m\n",
      "File \u001b[0;32m~/monitoring/shamon/experiments/primes/measure.py:124\u001b[0m, in \u001b[0;36m_measure\u001b[0;34m(cmds, moncmds, pipe)\u001b[0m\n\u001b[1;32m    122\u001b[0m     sleep(\u001b[38;5;241m0.15\u001b[39m)\n\u001b[1;32m    123\u001b[0m \u001b[38;5;28;01mfor\u001b[39;00m c \u001b[38;5;129;01min\u001b[39;00m moncmds:\n\u001b[0;32m--> 124\u001b[0m     \u001b[43mc\u001b[49m\u001b[38;5;241;43m.\u001b[39;49m\u001b[43mrun\u001b[49m\u001b[43m(\u001b[49m\u001b[43m)\u001b[49m\n\u001b[1;32m    126\u001b[0m \u001b[38;5;66;03m# -- PROCESS OUTPUTS OF MONITORS --\u001b[39;00m\n\u001b[1;32m    127\u001b[0m \u001b[38;5;28;01mfor\u001b[39;00m mon \u001b[38;5;129;01min\u001b[39;00m moncmds:\n",
      "File \u001b[0;32m~/monitoring/shamon/experiments/primes/measure.py:71\u001b[0m, in \u001b[0;36mCommand.run\u001b[0;34m(self, stdout, stderr, stdin)\u001b[0m\n\u001b[1;32m     69\u001b[0m \u001b[38;5;28;01mdef\u001b[39;00m \u001b[38;5;21mrun\u001b[39m(\u001b[38;5;28mself\u001b[39m, stdout\u001b[38;5;241m=\u001b[39mPIPE, stderr\u001b[38;5;241m=\u001b[39mPIPE, stdin\u001b[38;5;241m=\u001b[39m\u001b[38;5;28;01mNone\u001b[39;00m):\n\u001b[1;32m     70\u001b[0m     log(\u001b[38;5;124mf\u001b[39m\u001b[38;5;124m\"\u001b[39m\u001b[38;5;124mCommand: \u001b[39m\u001b[38;5;132;01m{\u001b[39;00m\u001b[38;5;28mself\u001b[39m\u001b[38;5;132;01m}\u001b[39;00m\u001b[38;5;124m\"\u001b[39m)\n\u001b[0;32m---> 71\u001b[0m     \u001b[38;5;28mself\u001b[39m\u001b[38;5;241m.\u001b[39mproc \u001b[38;5;241m=\u001b[39m \u001b[43mPopen\u001b[49m\u001b[43m(\u001b[49m\u001b[38;5;28;43mself\u001b[39;49m\u001b[38;5;241;43m.\u001b[39;49m\u001b[43mcmd\u001b[49m\u001b[43m,\u001b[49m\u001b[43m \u001b[49m\u001b[43mstdout\u001b[49m\u001b[38;5;241;43m=\u001b[39;49m\u001b[43mstdout\u001b[49m\u001b[43m,\u001b[49m\u001b[43m \u001b[49m\u001b[43mstderr\u001b[49m\u001b[38;5;241;43m=\u001b[39;49m\u001b[43mstderr\u001b[49m\u001b[43m,\u001b[49m\u001b[43m \u001b[49m\u001b[43mstdin\u001b[49m\u001b[38;5;241;43m=\u001b[39;49m\u001b[43mstdin\u001b[49m\u001b[43m)\u001b[49m\n\u001b[1;32m     72\u001b[0m     \u001b[38;5;28;01mreturn\u001b[39;00m \u001b[38;5;28mself\u001b[39m\n",
      "File \u001b[0;32m/usr/lib/python3.9/subprocess.py:951\u001b[0m, in \u001b[0;36mPopen.__init__\u001b[0;34m(self, args, bufsize, executable, stdin, stdout, stderr, preexec_fn, close_fds, shell, cwd, env, universal_newlines, startupinfo, creationflags, restore_signals, start_new_session, pass_fds, user, group, extra_groups, encoding, errors, text, umask)\u001b[0m\n\u001b[1;32m    947\u001b[0m         \u001b[38;5;28;01mif\u001b[39;00m \u001b[38;5;28mself\u001b[39m\u001b[38;5;241m.\u001b[39mtext_mode:\n\u001b[1;32m    948\u001b[0m             \u001b[38;5;28mself\u001b[39m\u001b[38;5;241m.\u001b[39mstderr \u001b[38;5;241m=\u001b[39m io\u001b[38;5;241m.\u001b[39mTextIOWrapper(\u001b[38;5;28mself\u001b[39m\u001b[38;5;241m.\u001b[39mstderr,\n\u001b[1;32m    949\u001b[0m                     encoding\u001b[38;5;241m=\u001b[39mencoding, errors\u001b[38;5;241m=\u001b[39merrors)\n\u001b[0;32m--> 951\u001b[0m     \u001b[38;5;28;43mself\u001b[39;49m\u001b[38;5;241;43m.\u001b[39;49m\u001b[43m_execute_child\u001b[49m\u001b[43m(\u001b[49m\u001b[43margs\u001b[49m\u001b[43m,\u001b[49m\u001b[43m \u001b[49m\u001b[43mexecutable\u001b[49m\u001b[43m,\u001b[49m\u001b[43m \u001b[49m\u001b[43mpreexec_fn\u001b[49m\u001b[43m,\u001b[49m\u001b[43m \u001b[49m\u001b[43mclose_fds\u001b[49m\u001b[43m,\u001b[49m\n\u001b[1;32m    952\u001b[0m \u001b[43m                        \u001b[49m\u001b[43mpass_fds\u001b[49m\u001b[43m,\u001b[49m\u001b[43m \u001b[49m\u001b[43mcwd\u001b[49m\u001b[43m,\u001b[49m\u001b[43m \u001b[49m\u001b[43menv\u001b[49m\u001b[43m,\u001b[49m\n\u001b[1;32m    953\u001b[0m \u001b[43m                        \u001b[49m\u001b[43mstartupinfo\u001b[49m\u001b[43m,\u001b[49m\u001b[43m \u001b[49m\u001b[43mcreationflags\u001b[49m\u001b[43m,\u001b[49m\u001b[43m \u001b[49m\u001b[43mshell\u001b[49m\u001b[43m,\u001b[49m\n\u001b[1;32m    954\u001b[0m \u001b[43m                        \u001b[49m\u001b[43mp2cread\u001b[49m\u001b[43m,\u001b[49m\u001b[43m \u001b[49m\u001b[43mp2cwrite\u001b[49m\u001b[43m,\u001b[49m\n\u001b[1;32m    955\u001b[0m \u001b[43m                        \u001b[49m\u001b[43mc2pread\u001b[49m\u001b[43m,\u001b[49m\u001b[43m \u001b[49m\u001b[43mc2pwrite\u001b[49m\u001b[43m,\u001b[49m\n\u001b[1;32m    956\u001b[0m \u001b[43m                        \u001b[49m\u001b[43merrread\u001b[49m\u001b[43m,\u001b[49m\u001b[43m \u001b[49m\u001b[43merrwrite\u001b[49m\u001b[43m,\u001b[49m\n\u001b[1;32m    957\u001b[0m \u001b[43m                        \u001b[49m\u001b[43mrestore_signals\u001b[49m\u001b[43m,\u001b[49m\n\u001b[1;32m    958\u001b[0m \u001b[43m                        \u001b[49m\u001b[43mgid\u001b[49m\u001b[43m,\u001b[49m\u001b[43m \u001b[49m\u001b[43mgids\u001b[49m\u001b[43m,\u001b[49m\u001b[43m \u001b[49m\u001b[43muid\u001b[49m\u001b[43m,\u001b[49m\u001b[43m \u001b[49m\u001b[43mumask\u001b[49m\u001b[43m,\u001b[49m\n\u001b[1;32m    959\u001b[0m \u001b[43m                        \u001b[49m\u001b[43mstart_new_session\u001b[49m\u001b[43m)\u001b[49m\n\u001b[1;32m    960\u001b[0m \u001b[38;5;28;01mexcept\u001b[39;00m:\n\u001b[1;32m    961\u001b[0m     \u001b[38;5;66;03m# Cleanup if the child failed starting.\u001b[39;00m\n\u001b[1;32m    962\u001b[0m     \u001b[38;5;28;01mfor\u001b[39;00m f \u001b[38;5;129;01min\u001b[39;00m \u001b[38;5;28mfilter\u001b[39m(\u001b[38;5;28;01mNone\u001b[39;00m, (\u001b[38;5;28mself\u001b[39m\u001b[38;5;241m.\u001b[39mstdin, \u001b[38;5;28mself\u001b[39m\u001b[38;5;241m.\u001b[39mstdout, \u001b[38;5;28mself\u001b[39m\u001b[38;5;241m.\u001b[39mstderr)):\n",
      "File \u001b[0;32m/usr/lib/python3.9/subprocess.py:1823\u001b[0m, in \u001b[0;36mPopen._execute_child\u001b[0;34m(self, args, executable, preexec_fn, close_fds, pass_fds, cwd, env, startupinfo, creationflags, shell, p2cread, p2cwrite, c2pread, c2pwrite, errread, errwrite, restore_signals, gid, gids, uid, umask, start_new_session)\u001b[0m\n\u001b[1;32m   1821\u001b[0m     \u001b[38;5;28;01mif\u001b[39;00m errno_num \u001b[38;5;241m!=\u001b[39m \u001b[38;5;241m0\u001b[39m:\n\u001b[1;32m   1822\u001b[0m         err_msg \u001b[38;5;241m=\u001b[39m os\u001b[38;5;241m.\u001b[39mstrerror(errno_num)\n\u001b[0;32m-> 1823\u001b[0m     \u001b[38;5;28;01mraise\u001b[39;00m child_exception_type(errno_num, err_msg, err_filename)\n\u001b[1;32m   1824\u001b[0m \u001b[38;5;28;01mraise\u001b[39;00m child_exception_type(err_msg)\n",
      "\u001b[0;31mFileNotFoundError\u001b[0m: [Errno 2] No such file or directory: './monitor'"
     ]
    }
   ],
   "source": [
    "dm_pipes_time_c = ParseTime()\n",
    "dm_pipes_time_py = ParseTime()\n",
    "dm_pipes_stats = ParseStats()\n",
    "measure(\"'Differential monitor C/Py for primes' piping\",\n",
    "        [PipedCommands(Command(f\"{PRIMESPATH}/primes\", NUM).withparser(dm_pipes_time_c),\n",
    "                       Command(f\"{SHAMONPATH}/sources/regex\", \"/primes1\", \"prime\", \"#([0-9]+): ([0-9]+)\", \"ii\")),\n",
    "         PipedCommands(Command(\"python3\", f\"{PRIMESPATH}/primes.py\", NUM).withparser(dm_pipes_time_py),\n",
    "                       Command(f\"{SHAMONPATH}/sources/regex\", \"/primes2\", \"prime\", \"#([0-9]+): ([0-9]+)\", \"ii\"))],\n",
    "        [Command(\"./monitor\", \"Left:drregex:/primes1\", \"Right:drregex:/primes2\").withparser(dm_pipes_stats)])\n",
    "dm_pipes_time_c.report(msg=\"C program\")\n",
    "dm_pipes_time_py.report(msg=\"Python program\")\n",
    "dm_pipes_stats.report()"
   ]
  },
  {
   "cell_type": "code",
   "execution_count": null,
   "id": "666b984f-8733-4298-9eb1-6f74ee33cca4",
   "metadata": {},
   "outputs": [],
   "source": [
    "dm_drio_time_c = ParseTime()\n",
    "dm_drio_time_py = ParseTime()\n",
    "dm_drio_stats = ParseStats()\n",
    "measure(\"'Differential monitor C/Py for primes' DynamoRIO sources\",\n",
    "        [Command(*DRIO, \"-c\", f\"{SHAMONPATH}/sources/drregex/libdrregex.so\",\n",
    "                 \"/primes1\", \"prime\", \"#([0-9]+): ([0-9]+)\", \"ii\", \"--\",\n",
    "                 f\"{PRIMESPATH}/primes\", NUM).withparser(dm_drio_time_c),\n",
    "         Command(*DRIO, \"-c\", f\"{SHAMONPATH}/sources/drregex/libdrregex.so\",\n",
    "                 \"/primes2\", \"prime\", \"#([0-9]+): ([0-9]+)\", \"ii\", \"--\",\n",
    "                 \"python3\", f\"{PRIMESPATH}/primes.py\", NUM).withparser(dm_drio_time_py)],\n",
    "        [Command(\"./monitor\", \"Left:drregex:/primes1\", \"Right:drregex:/primes2\").withparser(dm_drio_stats)])\n",
    "dm_drio_time_c.report(msg=\"C program\")\n",
    "dm_drio_time_py.report(msg=\"Python program\")\n",
    "dm_drio_stats.report()"
   ]
  },
  {
   "cell_type": "code",
   "execution_count": null,
   "id": "6604575f-0d0d-4d4a-bc8a-99bacbfc4ea8",
   "metadata": {},
   "outputs": [],
   "source": [
    "dm_pipes_time_c1 = ParseTime()\n",
    "dm_pipes_time_c2 = ParseTime()\n",
    "dm_pipes_stats2 = ParseStats()\n",
    "measure(\"'Differential monitor C/C for primes' piping\",\n",
    "        [PipedCommands(Command(f\"{PRIMESPATH}/primes\", NUM).withparser(dm_pipes_time_c1),\n",
    "                       Command(f\"{SHAMONPATH}/sources/regex\", \"/primes1\", \"prime\", \"#([0-9]+): ([0-9]+)\", \"ii\")),\n",
    "         PipedCommands(Command(f\"{PRIMESPATH}/primes\", NUM).withparser(dm_pipes_time_c2),\n",
    "                       Command(f\"{SHAMONPATH}/sources/regex\", \"/primes2\", \"prime\", \"#([0-9]+): ([0-9]+)\", \"ii\"))],\n",
    "        [Command(\"./monitor\", \"Left:drregex:/primes1\", \"Right:drregex:/primes2\").withparser(dm_pipes_stats2)])\n",
    "dm_pipes_time_c1.report(msg=\"C program (1)\")\n",
    "dm_pipes_time_c2.report(msg=\"C program (2)\")\n",
    "dm_pipes_stats2.report()"
   ]
  },
  {
   "cell_type": "code",
   "execution_count": null,
   "id": "b23fdf80-9e31-4e4c-8bee-3dfc2e9bcf5d",
   "metadata": {},
   "outputs": [],
   "source": [
    "dm_drio_time_c1 = ParseTime()\n",
    "dm_drio_time_c2 = ParseTime()\n",
    "dm_drio_stats2 = ParseStats()\n",
    "measure(\"'Differential monitor C/C for primes' DynamoRIO sources\",\n",
    "        [Command(*DRIO, \"-c\", f\"{SHAMONPATH}/sources/drregex/libdrregex.so\",\n",
    "                 \"/primes1\", \"prime\", \"#([0-9]+): ([0-9]+)\", \"ii\", \"--\",\n",
    "                 f\"{PRIMESPATH}/primes\", NUM).withparser(dm_drio_time_c1),\n",
    "         Command(*DRIO, \"-c\", f\"{SHAMONPATH}/sources/drregex/libdrregex.so\",\n",
    "                 \"/primes2\", \"prime\", \"#([0-9]+): ([0-9]+)\", \"ii\", \"--\",\n",
    "                 f\"{PRIMESPATH}/primes\", NUM).withparser(dm_drio_time_c2)],\n",
    "        [Command(\"./monitor\", \"Left:drregex:/primes1\", \"Right:drregex:/primes2\").withparser(dm_drio_stats2)])\n",
    "dm_drio_time_c1.report(msg=\"C program\")\n",
    "dm_drio_time_c2.report(msg=\"Python program\")\n",
    "dm_drio_stats2.report()"
   ]
  },
  {
   "cell_type": "code",
   "execution_count": null,
   "id": "95beacd0-56e8-40b5-a4df-5e071e52cb26",
   "metadata": {},
   "outputs": [],
   "source": [
    "dm_pipes_bad_time_c1 = ParseTime()\n",
    "dm_pipes_bad_time_c2 = ParseTime()\n",
    "dm_pipes_bad_stats2 = ParseStats()\n",
    "measure(\"'Differential monitor C/C for primes' piping, 10% mistakes\",\n",
    "        [PipedCommands(Command(f\"{PRIMESPATH}/primes\", NUM).withparser(dm_pipes_bad_time_c1),\n",
    "                       Command(f\"{SHAMONPATH}/sources/regex\", \"/primes1\", \"prime\", \"#([0-9]+): ([0-9]+)\", \"ii\")),\n",
    "         PipedCommands(Command(f\"{PRIMESPATH}/primes-bad\", NUM, str(int(NUM)/10)).withparser(dm_pipes_bad_time_c2),\n",
    "                       Command(f\"{SHAMONPATH}/sources/regex\", \"/primes2\", \"prime\", \"#([0-9]+): ([0-9]+)\", \"ii\"))],\n",
    "        [Command(\"./monitor\", \"Left:drregex:/primes1\", \"Right:drregex:/primes2\").withparser(dm_pipes_bad_stats2)])\n",
    "dm_pipes_bad_time_c1.report(msg=\"C program (1)\")\n",
    "dm_pipes_bad_time_c2.report(msg=\"C program (2)\")\n",
    "dm_pipes_bad_stats2.report()"
   ]
  },
  {
   "cell_type": "code",
   "execution_count": null,
   "id": "d1d8647e-51fe-496f-ab24-cd15c7439035",
   "metadata": {},
   "outputs": [],
   "source": [
    "log(f\"-- Removing working directory {WORKINGDIR} --\")\n",
    "close_log()\n",
    "# chdir(\"/\")\n",
    "# rmtree(WORKINGDIR)"
   ]
  }
 ],
 "metadata": {
  "kernelspec": {
   "display_name": "Python 3 (ipykernel)",
   "language": "python",
   "name": "python3"
  },
  "language_info": {
   "codemirror_mode": {
    "name": "ipython",
    "version": 3
   },
   "file_extension": ".py",
   "mimetype": "text/x-python",
   "name": "python",
   "nbconvert_exporter": "python",
   "pygments_lexer": "ipython3",
   "version": "3.9.2"
  }
 },
 "nbformat": 4,
 "nbformat_minor": 5
}
